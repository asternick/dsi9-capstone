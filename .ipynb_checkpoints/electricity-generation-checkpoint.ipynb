{
 "cells": [
  {
   "cell_type": "markdown",
   "metadata": {},
   "source": [
    "## Importing Data"
   ]
  },
  {
   "cell_type": "code",
   "execution_count": 42,
   "metadata": {},
   "outputs": [],
   "source": [
    "import pandas as pd\n",
    "import numpy as np\n",
    "import matplotlib.pyplot as plt\n",
    "import seaborn as sns\n",
    "import warnings\n",
    "warnings.simplefilter(action='ignore', category=FutureWarning)"
   ]
  },
  {
   "cell_type": "code",
   "execution_count": 43,
   "metadata": {},
   "outputs": [],
   "source": [
    "dfg = pd.read_excel('./data/annual_generation_state.xls')"
   ]
  },
  {
   "cell_type": "code",
   "execution_count": 44,
   "metadata": {},
   "outputs": [],
   "source": [
    "# Resetting column headings\n",
    "dfg.columns = dfg.iloc[0]\n",
    "dfg.drop([0], inplace = True)"
   ]
  },
  {
   "cell_type": "code",
   "execution_count": 45,
   "metadata": {},
   "outputs": [
    {
     "data": {
      "text/html": [
       "<div>\n",
       "<style scoped>\n",
       "    .dataframe tbody tr th:only-of-type {\n",
       "        vertical-align: middle;\n",
       "    }\n",
       "\n",
       "    .dataframe tbody tr th {\n",
       "        vertical-align: top;\n",
       "    }\n",
       "\n",
       "    .dataframe thead th {\n",
       "        text-align: right;\n",
       "    }\n",
       "</style>\n",
       "<table border=\"1\" class=\"dataframe\">\n",
       "  <thead>\n",
       "    <tr style=\"text-align: right;\">\n",
       "      <th></th>\n",
       "      <th>YEAR</th>\n",
       "      <th>STATE</th>\n",
       "      <th>TYPE OF PRODUCER</th>\n",
       "      <th>ENERGY SOURCE</th>\n",
       "      <th>GENERATION (Megawatthours)</th>\n",
       "    </tr>\n",
       "  </thead>\n",
       "  <tbody>\n",
       "    <tr>\n",
       "      <td>1</td>\n",
       "      <td>1990</td>\n",
       "      <td>AK</td>\n",
       "      <td>Total Electric Power Industry</td>\n",
       "      <td>Total</td>\n",
       "      <td>5599506</td>\n",
       "    </tr>\n",
       "    <tr>\n",
       "      <td>2</td>\n",
       "      <td>1990</td>\n",
       "      <td>AK</td>\n",
       "      <td>Total Electric Power Industry</td>\n",
       "      <td>Coal</td>\n",
       "      <td>510573</td>\n",
       "    </tr>\n",
       "    <tr>\n",
       "      <td>3</td>\n",
       "      <td>1990</td>\n",
       "      <td>AK</td>\n",
       "      <td>Total Electric Power Industry</td>\n",
       "      <td>Hydroelectric Conventional</td>\n",
       "      <td>974521</td>\n",
       "    </tr>\n",
       "    <tr>\n",
       "      <td>4</td>\n",
       "      <td>1990</td>\n",
       "      <td>AK</td>\n",
       "      <td>Total Electric Power Industry</td>\n",
       "      <td>Natural Gas</td>\n",
       "      <td>3466261</td>\n",
       "    </tr>\n",
       "    <tr>\n",
       "      <td>5</td>\n",
       "      <td>1990</td>\n",
       "      <td>AK</td>\n",
       "      <td>Total Electric Power Industry</td>\n",
       "      <td>Petroleum</td>\n",
       "      <td>497116</td>\n",
       "    </tr>\n",
       "  </tbody>\n",
       "</table>\n",
       "</div>"
      ],
      "text/plain": [
       "0  YEAR STATE               TYPE OF PRODUCER               ENERGY SOURCE  \\\n",
       "1  1990    AK  Total Electric Power Industry                       Total   \n",
       "2  1990    AK  Total Electric Power Industry                        Coal   \n",
       "3  1990    AK  Total Electric Power Industry  Hydroelectric Conventional   \n",
       "4  1990    AK  Total Electric Power Industry                 Natural Gas   \n",
       "5  1990    AK  Total Electric Power Industry                   Petroleum   \n",
       "\n",
       "0 GENERATION (Megawatthours)  \n",
       "1                    5599506  \n",
       "2                     510573  \n",
       "3                     974521  \n",
       "4                    3466261  \n",
       "5                     497116  "
      ]
     },
     "execution_count": 45,
     "metadata": {},
     "output_type": "execute_result"
    }
   ],
   "source": [
    "dfg.head()"
   ]
  },
  {
   "cell_type": "markdown",
   "metadata": {},
   "source": [
    "### Initial EDA and Data Cleaning"
   ]
  },
  {
   "cell_type": "markdown",
   "metadata": {},
   "source": [
    "EIA data is quite complete:"
   ]
  },
  {
   "cell_type": "code",
   "execution_count": 46,
   "metadata": {
    "scrolled": true
   },
   "outputs": [
    {
     "data": {
      "text/plain": [
       "0\n",
       "YEAR                          0\n",
       "STATE                         0\n",
       "TYPE OF PRODUCER              0\n",
       "ENERGY SOURCE                 0\n",
       "GENERATION (Megawatthours)    0\n",
       "dtype: int64"
      ]
     },
     "execution_count": 46,
     "metadata": {},
     "output_type": "execute_result"
    }
   ],
   "source": [
    "dfg.isnull().sum()"
   ]
  },
  {
   "cell_type": "markdown",
   "metadata": {},
   "source": [
    "We have a tremendous number of rows, and we will certainly want to pare that down to what we truly need. <br>We will do this in section 1.2) Confirming Assumptions:"
   ]
  },
  {
   "cell_type": "code",
   "execution_count": 47,
   "metadata": {
    "scrolled": true
   },
   "outputs": [
    {
     "data": {
      "text/plain": [
       "(51633, 5)"
      ]
     },
     "execution_count": 47,
     "metadata": {},
     "output_type": "execute_result"
    }
   ],
   "source": [
    "dfg.shape"
   ]
  },
  {
   "cell_type": "markdown",
   "metadata": {},
   "source": [
    "All-caps column names will be difficult to work with, so here we rename:"
   ]
  },
  {
   "cell_type": "code",
   "execution_count": 48,
   "metadata": {},
   "outputs": [],
   "source": [
    "column_rename = {\"YEAR\": \"Year\", \n",
    "                 \"STATE\": \"State\", \n",
    "                 \"TYPE OF PRODUCER\": \"Producer Type\",\n",
    "                 \"ENERGY SOURCE\": \"Source\", \n",
    "                 \"GENERATION (Megawatthours)\": \"Gen MWh\"}\n",
    "\n",
    "dfg.rename(columns=column_rename, inplace=True)"
   ]
  },
  {
   "cell_type": "markdown",
   "metadata": {},
   "source": [
    "However not all our data types are as expected. \"Year\" and \"GENERATION (Megawatthours)\" are expected to be numeric but they are not. We will convert both these columns to int."
   ]
  },
  {
   "cell_type": "code",
   "execution_count": 49,
   "metadata": {
    "scrolled": false
   },
   "outputs": [
    {
     "data": {
      "text/plain": [
       "0\n",
       "Year             object\n",
       "State            object\n",
       "Producer Type    object\n",
       "Source           object\n",
       "Gen MWh          object\n",
       "dtype: object"
      ]
     },
     "execution_count": 49,
     "metadata": {},
     "output_type": "execute_result"
    }
   ],
   "source": [
    "dfg.dtypes"
   ]
  },
  {
   "cell_type": "code",
   "execution_count": 50,
   "metadata": {},
   "outputs": [],
   "source": [
    "dfg['Gen MWh'] = dfg['Gen MWh'].astype(int)\n",
    "dfg['Year'] = dfg['Year'].astype(int)"
   ]
  },
  {
   "cell_type": "markdown",
   "metadata": {},
   "source": [
    "We have 29 years of data, 1990 to 2018, just like our rates data:"
   ]
  },
  {
   "cell_type": "code",
   "execution_count": 51,
   "metadata": {
    "scrolled": true
   },
   "outputs": [
    {
     "data": {
      "text/plain": [
       "array([1990, 1991, 1992, 1993, 1994, 1995, 1996, 1997, 1998, 1999, 2000,\n",
       "       2001, 2002, 2003, 2004, 2005, 2006, 2007, 2008, 2009, 2010, 2011,\n",
       "       2012, 2013, 2014, 2015, 2016, 2017, 2018])"
      ]
     },
     "execution_count": 51,
     "metadata": {},
     "output_type": "execute_result"
    }
   ],
   "source": [
    "dfg['Year'].unique()"
   ]
  },
  {
   "cell_type": "markdown",
   "metadata": {},
   "source": [
    "There are 54 State categories, which is unexpected and worth investigation:"
   ]
  },
  {
   "cell_type": "code",
   "execution_count": 52,
   "metadata": {
    "scrolled": true
   },
   "outputs": [
    {
     "data": {
      "text/plain": [
       "54"
      ]
     },
     "execution_count": 52,
     "metadata": {},
     "output_type": "execute_result"
    }
   ],
   "source": [
    "dfg['State'].nunique()"
   ]
  },
  {
   "cell_type": "markdown",
   "metadata": {},
   "source": [
    "Beyond the 50 states plus DC, we have some blanks (' '), and two total US categories, \"US-TOTAL\" and \"US-Total\":"
   ]
  },
  {
   "cell_type": "code",
   "execution_count": 53,
   "metadata": {
    "scrolled": true
   },
   "outputs": [
    {
     "data": {
      "text/plain": [
       "array(['AK', 'AL', 'AR', 'AZ', 'CA', 'CO', 'CT', 'DC', 'DE', 'FL', 'GA',\n",
       "       'HI', 'IA', 'ID', 'IL', 'IN', 'KS', 'KY', 'LA', 'MA', 'MD', 'ME',\n",
       "       'MI', 'MN', 'MO', 'MS', 'MT', 'NC', 'ND', 'NE', 'NH', 'NJ', 'NM',\n",
       "       'NV', 'NY', 'OH', 'OK', 'OR', 'PA', 'RI', 'SC', 'SD', 'TN', 'TX',\n",
       "       'US-TOTAL', 'UT', 'VA', 'VT', 'WA', 'WI', 'WV', 'WY', '  ',\n",
       "       'US-Total'], dtype=object)"
      ]
     },
     "execution_count": 53,
     "metadata": {},
     "output_type": "execute_result"
    }
   ],
   "source": [
    "dfg['State'].unique()"
   ]
  },
  {
   "cell_type": "markdown",
   "metadata": {},
   "source": [
    "All three blank State items represent 0 MWh of generation, which is not meaningful data. We lose nothing by dropping these rows."
   ]
  },
  {
   "cell_type": "code",
   "execution_count": 54,
   "metadata": {},
   "outputs": [
    {
     "data": {
      "text/html": [
       "<div>\n",
       "<style scoped>\n",
       "    .dataframe tbody tr th:only-of-type {\n",
       "        vertical-align: middle;\n",
       "    }\n",
       "\n",
       "    .dataframe tbody tr th {\n",
       "        vertical-align: top;\n",
       "    }\n",
       "\n",
       "    .dataframe thead th {\n",
       "        text-align: right;\n",
       "    }\n",
       "</style>\n",
       "<table border=\"1\" class=\"dataframe\">\n",
       "  <thead>\n",
       "    <tr style=\"text-align: right;\">\n",
       "      <th></th>\n",
       "      <th>Year</th>\n",
       "      <th>State</th>\n",
       "      <th>Producer Type</th>\n",
       "      <th>Source</th>\n",
       "      <th>Gen MWh</th>\n",
       "    </tr>\n",
       "  </thead>\n",
       "  <tbody>\n",
       "    <tr>\n",
       "      <td>20577</td>\n",
       "      <td>2003</td>\n",
       "      <td></td>\n",
       "      <td>Total Electric Power Industry</td>\n",
       "      <td>Coal</td>\n",
       "      <td>0</td>\n",
       "    </tr>\n",
       "    <tr>\n",
       "      <td>20578</td>\n",
       "      <td>2003</td>\n",
       "      <td></td>\n",
       "      <td>Total Electric Power Industry</td>\n",
       "      <td>Natural Gas</td>\n",
       "      <td>0</td>\n",
       "    </tr>\n",
       "    <tr>\n",
       "      <td>20579</td>\n",
       "      <td>2003</td>\n",
       "      <td></td>\n",
       "      <td>Total Electric Power Industry</td>\n",
       "      <td>Petroleum</td>\n",
       "      <td>0</td>\n",
       "    </tr>\n",
       "  </tbody>\n",
       "</table>\n",
       "</div>"
      ],
      "text/plain": [
       "0      Year State                  Producer Type       Source  Gen MWh\n",
       "20577  2003        Total Electric Power Industry         Coal        0\n",
       "20578  2003        Total Electric Power Industry  Natural Gas        0\n",
       "20579  2003        Total Electric Power Industry    Petroleum        0"
      ]
     },
     "execution_count": 54,
     "metadata": {},
     "output_type": "execute_result"
    }
   ],
   "source": [
    "dfg.loc[dfg['State'] == \"  \"]"
   ]
  },
  {
   "cell_type": "code",
   "execution_count": 55,
   "metadata": {},
   "outputs": [],
   "source": [
    "dfg = dfg[dfg['State'] != \"  \"]"
   ]
  },
  {
   "cell_type": "markdown",
   "metadata": {},
   "source": [
    "We should also drop the US-TOTAL / US-Total data. We are not modeling the entire country, so the state data are all we need."
   ]
  },
  {
   "cell_type": "code",
   "execution_count": 56,
   "metadata": {},
   "outputs": [],
   "source": [
    "dfg = dfg[dfg['State'] != \"US-TOTAL\"]\n",
    "dfg = dfg[dfg['State'] != \"US-Total\"]"
   ]
  },
  {
   "cell_type": "markdown",
   "metadata": {},
   "source": [
    "### Exploring Totals"
   ]
  },
  {
   "cell_type": "markdown",
   "metadata": {},
   "source": [
    "We saw above that we have almost 50,000 rows. What we are interested in is 51 states, 29 years, and the (approximately) 10 different types of electricity generation plus totals. So we expect to **need** around 15,000 rows. In this section we will confirm that the extra rows are not needed, and remove them.\n",
    "\n",
    "The data contains a range of Producer Types for each combination of Year, State, and Source of generation:"
   ]
  },
  {
   "cell_type": "code",
   "execution_count": 57,
   "metadata": {},
   "outputs": [
    {
     "data": {
      "text/plain": [
       "array(['Total Electric Power Industry',\n",
       "       'Electric Generators, Electric Utilities',\n",
       "       'Combined Heat and Power, Industrial Power',\n",
       "       'Combined Heat and Power, Commercial Power',\n",
       "       'Electric Generators, Independent Power Producers',\n",
       "       'Combined Heat and Power, Electric Power'], dtype=object)"
      ]
     },
     "execution_count": 57,
     "metadata": {},
     "output_type": "execute_result"
    }
   ],
   "source": [
    "dfg['Producer Type'].unique()"
   ]
  },
  {
   "cell_type": "markdown",
   "metadata": {},
   "source": [
    "This can be most easily understood by looking at the 20 rows of data data for the state of Alaska in the year 1990:"
   ]
  },
  {
   "cell_type": "code",
   "execution_count": 58,
   "metadata": {},
   "outputs": [
    {
     "data": {
      "text/html": [
       "<div>\n",
       "<style scoped>\n",
       "    .dataframe tbody tr th:only-of-type {\n",
       "        vertical-align: middle;\n",
       "    }\n",
       "\n",
       "    .dataframe tbody tr th {\n",
       "        vertical-align: top;\n",
       "    }\n",
       "\n",
       "    .dataframe thead th {\n",
       "        text-align: right;\n",
       "    }\n",
       "</style>\n",
       "<table border=\"1\" class=\"dataframe\">\n",
       "  <thead>\n",
       "    <tr style=\"text-align: right;\">\n",
       "      <th></th>\n",
       "      <th>Year</th>\n",
       "      <th>State</th>\n",
       "      <th>Producer Type</th>\n",
       "      <th>Source</th>\n",
       "      <th>Gen MWh</th>\n",
       "    </tr>\n",
       "  </thead>\n",
       "  <tbody>\n",
       "    <tr>\n",
       "      <td>1</td>\n",
       "      <td>1990</td>\n",
       "      <td>AK</td>\n",
       "      <td>Total Electric Power Industry</td>\n",
       "      <td>Total</td>\n",
       "      <td>5599506</td>\n",
       "    </tr>\n",
       "    <tr>\n",
       "      <td>2</td>\n",
       "      <td>1990</td>\n",
       "      <td>AK</td>\n",
       "      <td>Total Electric Power Industry</td>\n",
       "      <td>Coal</td>\n",
       "      <td>510573</td>\n",
       "    </tr>\n",
       "    <tr>\n",
       "      <td>3</td>\n",
       "      <td>1990</td>\n",
       "      <td>AK</td>\n",
       "      <td>Total Electric Power Industry</td>\n",
       "      <td>Hydroelectric Conventional</td>\n",
       "      <td>974521</td>\n",
       "    </tr>\n",
       "    <tr>\n",
       "      <td>4</td>\n",
       "      <td>1990</td>\n",
       "      <td>AK</td>\n",
       "      <td>Total Electric Power Industry</td>\n",
       "      <td>Natural Gas</td>\n",
       "      <td>3466261</td>\n",
       "    </tr>\n",
       "    <tr>\n",
       "      <td>5</td>\n",
       "      <td>1990</td>\n",
       "      <td>AK</td>\n",
       "      <td>Total Electric Power Industry</td>\n",
       "      <td>Petroleum</td>\n",
       "      <td>497116</td>\n",
       "    </tr>\n",
       "    <tr>\n",
       "      <td>6</td>\n",
       "      <td>1990</td>\n",
       "      <td>AK</td>\n",
       "      <td>Total Electric Power Industry</td>\n",
       "      <td>Wind</td>\n",
       "      <td>0</td>\n",
       "    </tr>\n",
       "    <tr>\n",
       "      <td>7</td>\n",
       "      <td>1990</td>\n",
       "      <td>AK</td>\n",
       "      <td>Total Electric Power Industry</td>\n",
       "      <td>Wood and Wood Derived Fuels</td>\n",
       "      <td>151035</td>\n",
       "    </tr>\n",
       "    <tr>\n",
       "      <td>8</td>\n",
       "      <td>1990</td>\n",
       "      <td>AK</td>\n",
       "      <td>Electric Generators, Electric Utilities</td>\n",
       "      <td>Total</td>\n",
       "      <td>4493024</td>\n",
       "    </tr>\n",
       "    <tr>\n",
       "      <td>9</td>\n",
       "      <td>1990</td>\n",
       "      <td>AK</td>\n",
       "      <td>Electric Generators, Electric Utilities</td>\n",
       "      <td>Coal</td>\n",
       "      <td>311960</td>\n",
       "    </tr>\n",
       "    <tr>\n",
       "      <td>10</td>\n",
       "      <td>1990</td>\n",
       "      <td>AK</td>\n",
       "      <td>Electric Generators, Electric Utilities</td>\n",
       "      <td>Hydroelectric Conventional</td>\n",
       "      <td>974521</td>\n",
       "    </tr>\n",
       "    <tr>\n",
       "      <td>11</td>\n",
       "      <td>1990</td>\n",
       "      <td>AK</td>\n",
       "      <td>Electric Generators, Electric Utilities</td>\n",
       "      <td>Natural Gas</td>\n",
       "      <td>2869638</td>\n",
       "    </tr>\n",
       "    <tr>\n",
       "      <td>12</td>\n",
       "      <td>1990</td>\n",
       "      <td>AK</td>\n",
       "      <td>Electric Generators, Electric Utilities</td>\n",
       "      <td>Petroleum</td>\n",
       "      <td>336905</td>\n",
       "    </tr>\n",
       "    <tr>\n",
       "      <td>13</td>\n",
       "      <td>1990</td>\n",
       "      <td>AK</td>\n",
       "      <td>Electric Generators, Electric Utilities</td>\n",
       "      <td>Wind</td>\n",
       "      <td>0</td>\n",
       "    </tr>\n",
       "    <tr>\n",
       "      <td>14</td>\n",
       "      <td>1990</td>\n",
       "      <td>AK</td>\n",
       "      <td>Combined Heat and Power, Industrial Power</td>\n",
       "      <td>Total</td>\n",
       "      <td>840949</td>\n",
       "    </tr>\n",
       "    <tr>\n",
       "      <td>15</td>\n",
       "      <td>1990</td>\n",
       "      <td>AK</td>\n",
       "      <td>Combined Heat and Power, Industrial Power</td>\n",
       "      <td>Natural Gas</td>\n",
       "      <td>596623</td>\n",
       "    </tr>\n",
       "    <tr>\n",
       "      <td>16</td>\n",
       "      <td>1990</td>\n",
       "      <td>AK</td>\n",
       "      <td>Combined Heat and Power, Industrial Power</td>\n",
       "      <td>Petroleum</td>\n",
       "      <td>93291</td>\n",
       "    </tr>\n",
       "    <tr>\n",
       "      <td>17</td>\n",
       "      <td>1990</td>\n",
       "      <td>AK</td>\n",
       "      <td>Combined Heat and Power, Industrial Power</td>\n",
       "      <td>Wood and Wood Derived Fuels</td>\n",
       "      <td>151035</td>\n",
       "    </tr>\n",
       "    <tr>\n",
       "      <td>18</td>\n",
       "      <td>1990</td>\n",
       "      <td>AK</td>\n",
       "      <td>Combined Heat and Power, Commercial Power</td>\n",
       "      <td>Total</td>\n",
       "      <td>265533</td>\n",
       "    </tr>\n",
       "    <tr>\n",
       "      <td>19</td>\n",
       "      <td>1990</td>\n",
       "      <td>AK</td>\n",
       "      <td>Combined Heat and Power, Commercial Power</td>\n",
       "      <td>Coal</td>\n",
       "      <td>198613</td>\n",
       "    </tr>\n",
       "    <tr>\n",
       "      <td>20</td>\n",
       "      <td>1990</td>\n",
       "      <td>AK</td>\n",
       "      <td>Combined Heat and Power, Commercial Power</td>\n",
       "      <td>Petroleum</td>\n",
       "      <td>66920</td>\n",
       "    </tr>\n",
       "  </tbody>\n",
       "</table>\n",
       "</div>"
      ],
      "text/plain": [
       "0   Year State                              Producer Type  \\\n",
       "1   1990    AK              Total Electric Power Industry   \n",
       "2   1990    AK              Total Electric Power Industry   \n",
       "3   1990    AK              Total Electric Power Industry   \n",
       "4   1990    AK              Total Electric Power Industry   \n",
       "5   1990    AK              Total Electric Power Industry   \n",
       "6   1990    AK              Total Electric Power Industry   \n",
       "7   1990    AK              Total Electric Power Industry   \n",
       "8   1990    AK    Electric Generators, Electric Utilities   \n",
       "9   1990    AK    Electric Generators, Electric Utilities   \n",
       "10  1990    AK    Electric Generators, Electric Utilities   \n",
       "11  1990    AK    Electric Generators, Electric Utilities   \n",
       "12  1990    AK    Electric Generators, Electric Utilities   \n",
       "13  1990    AK    Electric Generators, Electric Utilities   \n",
       "14  1990    AK  Combined Heat and Power, Industrial Power   \n",
       "15  1990    AK  Combined Heat and Power, Industrial Power   \n",
       "16  1990    AK  Combined Heat and Power, Industrial Power   \n",
       "17  1990    AK  Combined Heat and Power, Industrial Power   \n",
       "18  1990    AK  Combined Heat and Power, Commercial Power   \n",
       "19  1990    AK  Combined Heat and Power, Commercial Power   \n",
       "20  1990    AK  Combined Heat and Power, Commercial Power   \n",
       "\n",
       "0                        Source  Gen MWh  \n",
       "1                         Total  5599506  \n",
       "2                          Coal   510573  \n",
       "3    Hydroelectric Conventional   974521  \n",
       "4                   Natural Gas  3466261  \n",
       "5                     Petroleum   497116  \n",
       "6                          Wind        0  \n",
       "7   Wood and Wood Derived Fuels   151035  \n",
       "8                         Total  4493024  \n",
       "9                          Coal   311960  \n",
       "10   Hydroelectric Conventional   974521  \n",
       "11                  Natural Gas  2869638  \n",
       "12                    Petroleum   336905  \n",
       "13                         Wind        0  \n",
       "14                        Total   840949  \n",
       "15                  Natural Gas   596623  \n",
       "16                    Petroleum    93291  \n",
       "17  Wood and Wood Derived Fuels   151035  \n",
       "18                        Total   265533  \n",
       "19                         Coal   198613  \n",
       "20                    Petroleum    66920  "
      ]
     },
     "execution_count": 58,
     "metadata": {},
     "output_type": "execute_result"
    }
   ],
   "source": [
    "dfg.head(20)"
   ]
  },
  {
   "cell_type": "markdown",
   "metadata": {},
   "source": [
    "We are not interested in the various producer types - only the \"Total Electric Power Industry\". It certainly _appears_ that if we sum up the Gen MWh for each Source, for all Producer Types except \"Total Electric Power Industry\", they will equal \"Total Electric Power Industry\". \n",
    "\n",
    "But that is a rather risky assumption to make for almost 50,000 rows of data. So here we confirm this is true:"
   ]
  },
  {
   "cell_type": "code",
   "execution_count": 59,
   "metadata": {},
   "outputs": [],
   "source": [
    "# This function will return a pivot table object and the multiindex\n",
    "# as a list, which we will use to create a calculated Total column\n",
    "def year_state_pivot(data, index, columns):\n",
    "    return pd.pivot_table(data=data, index=index, columns=columns, fill_value=0), list(pd.pivot_table(data=data, index=index, columns=columns, fill_value=0).columns)\n",
    "\n",
    "#dfg_pivot = pd.pivot_table(data=dfg, index=[\"Year\", \"State\", \"Source\"], columns=[\"Producer Type\"], fill_value=0)"
   ]
  },
  {
   "cell_type": "code",
   "execution_count": 60,
   "metadata": {},
   "outputs": [],
   "source": [
    "dfg_pivot, dfg_pivot_cols = year_state_pivot(dfg, ['Year', 'State', 'Source'], 'Producer Type')"
   ]
  },
  {
   "cell_type": "code",
   "execution_count": 61,
   "metadata": {
    "scrolled": true
   },
   "outputs": [
    {
     "data": {
      "text/html": [
       "<div>\n",
       "<style scoped>\n",
       "    .dataframe tbody tr th:only-of-type {\n",
       "        vertical-align: middle;\n",
       "    }\n",
       "\n",
       "    .dataframe tbody tr th {\n",
       "        vertical-align: top;\n",
       "    }\n",
       "\n",
       "    .dataframe thead tr th {\n",
       "        text-align: left;\n",
       "    }\n",
       "\n",
       "    .dataframe thead tr:last-of-type th {\n",
       "        text-align: right;\n",
       "    }\n",
       "</style>\n",
       "<table border=\"1\" class=\"dataframe\">\n",
       "  <thead>\n",
       "    <tr>\n",
       "      <th></th>\n",
       "      <th></th>\n",
       "      <th></th>\n",
       "      <th colspan=\"6\" halign=\"left\">Gen MWh</th>\n",
       "    </tr>\n",
       "    <tr>\n",
       "      <th></th>\n",
       "      <th></th>\n",
       "      <th>Producer Type</th>\n",
       "      <th>Combined Heat and Power, Commercial Power</th>\n",
       "      <th>Combined Heat and Power, Electric Power</th>\n",
       "      <th>Combined Heat and Power, Industrial Power</th>\n",
       "      <th>Electric Generators, Electric Utilities</th>\n",
       "      <th>Electric Generators, Independent Power Producers</th>\n",
       "      <th>Total Electric Power Industry</th>\n",
       "    </tr>\n",
       "    <tr>\n",
       "      <th>Year</th>\n",
       "      <th>State</th>\n",
       "      <th>Source</th>\n",
       "      <th></th>\n",
       "      <th></th>\n",
       "      <th></th>\n",
       "      <th></th>\n",
       "      <th></th>\n",
       "      <th></th>\n",
       "    </tr>\n",
       "  </thead>\n",
       "  <tbody>\n",
       "    <tr>\n",
       "      <td rowspan=\"5\" valign=\"top\">1990</td>\n",
       "      <td rowspan=\"5\" valign=\"top\">AK</td>\n",
       "      <td>Coal</td>\n",
       "      <td>198613</td>\n",
       "      <td>0</td>\n",
       "      <td>0</td>\n",
       "      <td>311960</td>\n",
       "      <td>0</td>\n",
       "      <td>510573</td>\n",
       "    </tr>\n",
       "    <tr>\n",
       "      <td>Hydroelectric Conventional</td>\n",
       "      <td>0</td>\n",
       "      <td>0</td>\n",
       "      <td>0</td>\n",
       "      <td>974521</td>\n",
       "      <td>0</td>\n",
       "      <td>974521</td>\n",
       "    </tr>\n",
       "    <tr>\n",
       "      <td>Natural Gas</td>\n",
       "      <td>0</td>\n",
       "      <td>0</td>\n",
       "      <td>596623</td>\n",
       "      <td>2869638</td>\n",
       "      <td>0</td>\n",
       "      <td>3466261</td>\n",
       "    </tr>\n",
       "    <tr>\n",
       "      <td>Petroleum</td>\n",
       "      <td>66920</td>\n",
       "      <td>0</td>\n",
       "      <td>93291</td>\n",
       "      <td>336905</td>\n",
       "      <td>0</td>\n",
       "      <td>497116</td>\n",
       "    </tr>\n",
       "    <tr>\n",
       "      <td>Total</td>\n",
       "      <td>265533</td>\n",
       "      <td>0</td>\n",
       "      <td>840949</td>\n",
       "      <td>4493024</td>\n",
       "      <td>0</td>\n",
       "      <td>5599506</td>\n",
       "    </tr>\n",
       "  </tbody>\n",
       "</table>\n",
       "</div>"
      ],
      "text/plain": [
       "0                                                                       Gen MWh  \\\n",
       "Producer Type                         Combined Heat and Power, Commercial Power   \n",
       "Year State Source                                                                 \n",
       "1990 AK    Coal                                                          198613   \n",
       "           Hydroelectric Conventional                                         0   \n",
       "           Natural Gas                                                        0   \n",
       "           Petroleum                                                      66920   \n",
       "           Total                                                         265533   \n",
       "\n",
       "0                                                                              \\\n",
       "Producer Type                         Combined Heat and Power, Electric Power   \n",
       "Year State Source                                                               \n",
       "1990 AK    Coal                                                             0   \n",
       "           Hydroelectric Conventional                                       0   \n",
       "           Natural Gas                                                      0   \n",
       "           Petroleum                                                        0   \n",
       "           Total                                                            0   \n",
       "\n",
       "0                                                                                \\\n",
       "Producer Type                         Combined Heat and Power, Industrial Power   \n",
       "Year State Source                                                                 \n",
       "1990 AK    Coal                                                               0   \n",
       "           Hydroelectric Conventional                                         0   \n",
       "           Natural Gas                                                   596623   \n",
       "           Petroleum                                                      93291   \n",
       "           Total                                                         840949   \n",
       "\n",
       "0                                                                              \\\n",
       "Producer Type                         Electric Generators, Electric Utilities   \n",
       "Year State Source                                                               \n",
       "1990 AK    Coal                                                        311960   \n",
       "           Hydroelectric Conventional                                  974521   \n",
       "           Natural Gas                                                2869638   \n",
       "           Petroleum                                                   336905   \n",
       "           Total                                                      4493024   \n",
       "\n",
       "0                                                                                       \\\n",
       "Producer Type                         Electric Generators, Independent Power Producers   \n",
       "Year State Source                                                                        \n",
       "1990 AK    Coal                                                                      0   \n",
       "           Hydroelectric Conventional                                                0   \n",
       "           Natural Gas                                                               0   \n",
       "           Petroleum                                                                 0   \n",
       "           Total                                                                     0   \n",
       "\n",
       "0                                                                    \n",
       "Producer Type                         Total Electric Power Industry  \n",
       "Year State Source                                                    \n",
       "1990 AK    Coal                                              510573  \n",
       "           Hydroelectric Conventional                        974521  \n",
       "           Natural Gas                                      3466261  \n",
       "           Petroleum                                         497116  \n",
       "           Total                                            5599506  "
      ]
     },
     "execution_count": 61,
     "metadata": {},
     "output_type": "execute_result"
    }
   ],
   "source": [
    "dfg_pivot.head()"
   ]
  },
  {
   "cell_type": "markdown",
   "metadata": {},
   "source": [
    "Here are our multiindex columns which we'll be working with:"
   ]
  },
  {
   "cell_type": "code",
   "execution_count": 62,
   "metadata": {
    "scrolled": false
   },
   "outputs": [
    {
     "data": {
      "text/plain": [
       "[('Gen MWh', 'Combined Heat and Power, Commercial Power'),\n",
       " ('Gen MWh', 'Combined Heat and Power, Electric Power'),\n",
       " ('Gen MWh', 'Combined Heat and Power, Industrial Power'),\n",
       " ('Gen MWh', 'Electric Generators, Electric Utilities'),\n",
       " ('Gen MWh', 'Electric Generators, Independent Power Producers'),\n",
       " ('Gen MWh', 'Total Electric Power Industry')]"
      ]
     },
     "execution_count": 62,
     "metadata": {},
     "output_type": "execute_result"
    }
   ],
   "source": [
    "dfg_pivot_cols"
   ]
  },
  {
   "cell_type": "markdown",
   "metadata": {},
   "source": [
    "Now we will create a calculated (Gen MWh, Total) column, which we can compare with the (Gen MWh, Total Electric Power Industry) numbers provided by EIA. As we are working with a multiindex, we will assign each column name to a variable for readability, before summing them up to create the new column:"
   ]
  },
  {
   "cell_type": "code",
   "execution_count": 63,
   "metadata": {},
   "outputs": [],
   "source": [
    "multi_0 = dfg_pivot[dfg_pivot_cols[0]]\n",
    "multi_1 = dfg_pivot[dfg_pivot_cols[1]] \n",
    "multi_2 = dfg_pivot[dfg_pivot_cols[2]]\n",
    "multi_3 = dfg_pivot[dfg_pivot_cols[3]]\n",
    "multi_4 = dfg_pivot[dfg_pivot_cols[4]]\n",
    "\n",
    "dfg_pivot[('Gen MWh', 'Calculated Total')] = multi_0 + multi_1 + multi_2 + multi_3 + multi_4"
   ]
  },
  {
   "cell_type": "code",
   "execution_count": 64,
   "metadata": {
    "scrolled": false
   },
   "outputs": [
    {
     "data": {
      "text/html": [
       "<div>\n",
       "<style scoped>\n",
       "    .dataframe tbody tr th:only-of-type {\n",
       "        vertical-align: middle;\n",
       "    }\n",
       "\n",
       "    .dataframe tbody tr th {\n",
       "        vertical-align: top;\n",
       "    }\n",
       "\n",
       "    .dataframe thead tr th {\n",
       "        text-align: left;\n",
       "    }\n",
       "\n",
       "    .dataframe thead tr:last-of-type th {\n",
       "        text-align: right;\n",
       "    }\n",
       "</style>\n",
       "<table border=\"1\" class=\"dataframe\">\n",
       "  <thead>\n",
       "    <tr>\n",
       "      <th></th>\n",
       "      <th></th>\n",
       "      <th></th>\n",
       "      <th colspan=\"7\" halign=\"left\">Gen MWh</th>\n",
       "    </tr>\n",
       "    <tr>\n",
       "      <th></th>\n",
       "      <th></th>\n",
       "      <th>Producer Type</th>\n",
       "      <th>Combined Heat and Power, Commercial Power</th>\n",
       "      <th>Combined Heat and Power, Electric Power</th>\n",
       "      <th>Combined Heat and Power, Industrial Power</th>\n",
       "      <th>Electric Generators, Electric Utilities</th>\n",
       "      <th>Electric Generators, Independent Power Producers</th>\n",
       "      <th>Total Electric Power Industry</th>\n",
       "      <th>Calculated Total</th>\n",
       "    </tr>\n",
       "    <tr>\n",
       "      <th>Year</th>\n",
       "      <th>State</th>\n",
       "      <th>Source</th>\n",
       "      <th></th>\n",
       "      <th></th>\n",
       "      <th></th>\n",
       "      <th></th>\n",
       "      <th></th>\n",
       "      <th></th>\n",
       "      <th></th>\n",
       "    </tr>\n",
       "  </thead>\n",
       "  <tbody>\n",
       "    <tr>\n",
       "      <td rowspan=\"5\" valign=\"top\">1990</td>\n",
       "      <td rowspan=\"5\" valign=\"top\">AK</td>\n",
       "      <td>Coal</td>\n",
       "      <td>198613</td>\n",
       "      <td>0</td>\n",
       "      <td>0</td>\n",
       "      <td>311960</td>\n",
       "      <td>0</td>\n",
       "      <td>510573</td>\n",
       "      <td>510573</td>\n",
       "    </tr>\n",
       "    <tr>\n",
       "      <td>Hydroelectric Conventional</td>\n",
       "      <td>0</td>\n",
       "      <td>0</td>\n",
       "      <td>0</td>\n",
       "      <td>974521</td>\n",
       "      <td>0</td>\n",
       "      <td>974521</td>\n",
       "      <td>974521</td>\n",
       "    </tr>\n",
       "    <tr>\n",
       "      <td>Natural Gas</td>\n",
       "      <td>0</td>\n",
       "      <td>0</td>\n",
       "      <td>596623</td>\n",
       "      <td>2869638</td>\n",
       "      <td>0</td>\n",
       "      <td>3466261</td>\n",
       "      <td>3466261</td>\n",
       "    </tr>\n",
       "    <tr>\n",
       "      <td>Petroleum</td>\n",
       "      <td>66920</td>\n",
       "      <td>0</td>\n",
       "      <td>93291</td>\n",
       "      <td>336905</td>\n",
       "      <td>0</td>\n",
       "      <td>497116</td>\n",
       "      <td>497116</td>\n",
       "    </tr>\n",
       "    <tr>\n",
       "      <td>Total</td>\n",
       "      <td>265533</td>\n",
       "      <td>0</td>\n",
       "      <td>840949</td>\n",
       "      <td>4493024</td>\n",
       "      <td>0</td>\n",
       "      <td>5599506</td>\n",
       "      <td>5599506</td>\n",
       "    </tr>\n",
       "  </tbody>\n",
       "</table>\n",
       "</div>"
      ],
      "text/plain": [
       "0                                                                       Gen MWh  \\\n",
       "Producer Type                         Combined Heat and Power, Commercial Power   \n",
       "Year State Source                                                                 \n",
       "1990 AK    Coal                                                          198613   \n",
       "           Hydroelectric Conventional                                         0   \n",
       "           Natural Gas                                                        0   \n",
       "           Petroleum                                                      66920   \n",
       "           Total                                                         265533   \n",
       "\n",
       "0                                                                              \\\n",
       "Producer Type                         Combined Heat and Power, Electric Power   \n",
       "Year State Source                                                               \n",
       "1990 AK    Coal                                                             0   \n",
       "           Hydroelectric Conventional                                       0   \n",
       "           Natural Gas                                                      0   \n",
       "           Petroleum                                                        0   \n",
       "           Total                                                            0   \n",
       "\n",
       "0                                                                                \\\n",
       "Producer Type                         Combined Heat and Power, Industrial Power   \n",
       "Year State Source                                                                 \n",
       "1990 AK    Coal                                                               0   \n",
       "           Hydroelectric Conventional                                         0   \n",
       "           Natural Gas                                                   596623   \n",
       "           Petroleum                                                      93291   \n",
       "           Total                                                         840949   \n",
       "\n",
       "0                                                                              \\\n",
       "Producer Type                         Electric Generators, Electric Utilities   \n",
       "Year State Source                                                               \n",
       "1990 AK    Coal                                                        311960   \n",
       "           Hydroelectric Conventional                                  974521   \n",
       "           Natural Gas                                                2869638   \n",
       "           Petroleum                                                   336905   \n",
       "           Total                                                      4493024   \n",
       "\n",
       "0                                                                                       \\\n",
       "Producer Type                         Electric Generators, Independent Power Producers   \n",
       "Year State Source                                                                        \n",
       "1990 AK    Coal                                                                      0   \n",
       "           Hydroelectric Conventional                                                0   \n",
       "           Natural Gas                                                               0   \n",
       "           Petroleum                                                                 0   \n",
       "           Total                                                                     0   \n",
       "\n",
       "0                                                                    \\\n",
       "Producer Type                         Total Electric Power Industry   \n",
       "Year State Source                                                     \n",
       "1990 AK    Coal                                              510573   \n",
       "           Hydroelectric Conventional                        974521   \n",
       "           Natural Gas                                      3466261   \n",
       "           Petroleum                                         497116   \n",
       "           Total                                            5599506   \n",
       "\n",
       "0                                                       \n",
       "Producer Type                         Calculated Total  \n",
       "Year State Source                                       \n",
       "1990 AK    Coal                                 510573  \n",
       "           Hydroelectric Conventional           974521  \n",
       "           Natural Gas                         3466261  \n",
       "           Petroleum                            497116  \n",
       "           Total                               5599506  "
      ]
     },
     "execution_count": 64,
     "metadata": {},
     "output_type": "execute_result"
    }
   ],
   "source": [
    "dfg_pivot.head()"
   ]
  },
  {
   "cell_type": "markdown",
   "metadata": {},
   "source": [
    "In the cell below, we compare our calculated (Gen MWh, Total) column with the (Gen MWh, Total Electric Power Industry) column. By subtracting, taking the absolute value, and counting True/False values, we can see if the generation totals are as we expect. \n",
    "\n",
    "A threshold of 10 (out of fields that range from the thousands into the millions) accounts for rounding errors."
   ]
  },
  {
   "cell_type": "code",
   "execution_count": 68,
   "metadata": {},
   "outputs": [
    {
     "data": {
      "text/plain": [
       "True    13809\n",
       "dtype: int64"
      ]
     },
     "execution_count": 68,
     "metadata": {},
     "output_type": "execute_result"
    }
   ],
   "source": [
    "(abs(dfg_pivot[('Gen MWh', 'Calculated Total')] - dfg_pivot[('Gen MWh', 'Total Electric Power Industry')]) <= 10).value_counts()"
   ]
  },
  {
   "cell_type": "markdown",
   "metadata": {},
   "source": [
    "We have confirmed that the rows where Producer Type is \"Total Electric Power Industry\" contain all the data in the other \"Producer Type\" rows. Here, we will drop those rows:"
   ]
  },
  {
   "cell_type": "code",
   "execution_count": 69,
   "metadata": {},
   "outputs": [],
   "source": [
    "dfg = dfg[dfg['Producer Type'] == 'Total Electric Power Industry']"
   ]
  },
  {
   "cell_type": "code",
   "execution_count": 70,
   "metadata": {
    "scrolled": true
   },
   "outputs": [
    {
     "data": {
      "text/plain": [
       "(13809, 5)"
      ]
     },
     "execution_count": 70,
     "metadata": {},
     "output_type": "execute_result"
    }
   ],
   "source": [
    "dfg.shape"
   ]
  },
  {
   "cell_type": "markdown",
   "metadata": {},
   "source": [
    "We are also interested in the various generation sources. Let's use the function created above to confirm that each \"Total\" row is equal to the sum of the various generation sources such as Coal, Hydro, Natural Gas, etc:"
   ]
  },
  {
   "cell_type": "code",
   "execution_count": 27,
   "metadata": {},
   "outputs": [
    {
     "data": {
      "text/html": [
       "<div>\n",
       "<style scoped>\n",
       "    .dataframe tbody tr th:only-of-type {\n",
       "        vertical-align: middle;\n",
       "    }\n",
       "\n",
       "    .dataframe tbody tr th {\n",
       "        vertical-align: top;\n",
       "    }\n",
       "\n",
       "    .dataframe thead th {\n",
       "        text-align: right;\n",
       "    }\n",
       "</style>\n",
       "<table border=\"1\" class=\"dataframe\">\n",
       "  <thead>\n",
       "    <tr style=\"text-align: right;\">\n",
       "      <th></th>\n",
       "      <th>Year</th>\n",
       "      <th>State</th>\n",
       "      <th>Producer Type</th>\n",
       "      <th>Source</th>\n",
       "      <th>Gen MWh</th>\n",
       "    </tr>\n",
       "  </thead>\n",
       "  <tbody>\n",
       "    <tr>\n",
       "      <td>1</td>\n",
       "      <td>1990</td>\n",
       "      <td>AK</td>\n",
       "      <td>Total Electric Power Industry</td>\n",
       "      <td>Total</td>\n",
       "      <td>5599506</td>\n",
       "    </tr>\n",
       "    <tr>\n",
       "      <td>2</td>\n",
       "      <td>1990</td>\n",
       "      <td>AK</td>\n",
       "      <td>Total Electric Power Industry</td>\n",
       "      <td>Coal</td>\n",
       "      <td>510573</td>\n",
       "    </tr>\n",
       "    <tr>\n",
       "      <td>3</td>\n",
       "      <td>1990</td>\n",
       "      <td>AK</td>\n",
       "      <td>Total Electric Power Industry</td>\n",
       "      <td>Hydroelectric Conventional</td>\n",
       "      <td>974521</td>\n",
       "    </tr>\n",
       "    <tr>\n",
       "      <td>4</td>\n",
       "      <td>1990</td>\n",
       "      <td>AK</td>\n",
       "      <td>Total Electric Power Industry</td>\n",
       "      <td>Natural Gas</td>\n",
       "      <td>3466261</td>\n",
       "    </tr>\n",
       "    <tr>\n",
       "      <td>5</td>\n",
       "      <td>1990</td>\n",
       "      <td>AK</td>\n",
       "      <td>Total Electric Power Industry</td>\n",
       "      <td>Petroleum</td>\n",
       "      <td>497116</td>\n",
       "    </tr>\n",
       "  </tbody>\n",
       "</table>\n",
       "</div>"
      ],
      "text/plain": [
       "0  Year State                  Producer Type                      Source  \\\n",
       "1  1990    AK  Total Electric Power Industry                       Total   \n",
       "2  1990    AK  Total Electric Power Industry                        Coal   \n",
       "3  1990    AK  Total Electric Power Industry  Hydroelectric Conventional   \n",
       "4  1990    AK  Total Electric Power Industry                 Natural Gas   \n",
       "5  1990    AK  Total Electric Power Industry                   Petroleum   \n",
       "\n",
       "0  Gen MWh  \n",
       "1  5599506  \n",
       "2   510573  \n",
       "3   974521  \n",
       "4  3466261  \n",
       "5   497116  "
      ]
     },
     "execution_count": 27,
     "metadata": {},
     "output_type": "execute_result"
    }
   ],
   "source": [
    "dfg.head()"
   ]
  },
  {
   "cell_type": "code",
   "execution_count": 28,
   "metadata": {
    "scrolled": true
   },
   "outputs": [],
   "source": [
    "dfg_pivot = year_state_pivot(dfg, ['Year', 'State'], 'Source')"
   ]
  },
  {
   "cell_type": "code",
   "execution_count": 29,
   "metadata": {},
   "outputs": [
    {
     "data": {
      "text/html": [
       "<div>\n",
       "<style scoped>\n",
       "    .dataframe tbody tr th:only-of-type {\n",
       "        vertical-align: middle;\n",
       "    }\n",
       "\n",
       "    .dataframe tbody tr th {\n",
       "        vertical-align: top;\n",
       "    }\n",
       "\n",
       "    .dataframe thead tr th {\n",
       "        text-align: left;\n",
       "    }\n",
       "\n",
       "    .dataframe thead tr:last-of-type th {\n",
       "        text-align: right;\n",
       "    }\n",
       "</style>\n",
       "<table border=\"1\" class=\"dataframe\">\n",
       "  <thead>\n",
       "    <tr>\n",
       "      <th></th>\n",
       "      <th></th>\n",
       "      <th colspan=\"14\" halign=\"left\">Gen MWh</th>\n",
       "    </tr>\n",
       "    <tr>\n",
       "      <th></th>\n",
       "      <th>Source</th>\n",
       "      <th>Coal</th>\n",
       "      <th>Geothermal</th>\n",
       "      <th>Hydroelectric Conventional</th>\n",
       "      <th>Natural Gas</th>\n",
       "      <th>Nuclear</th>\n",
       "      <th>Other</th>\n",
       "      <th>Other Biomass</th>\n",
       "      <th>Other Gases</th>\n",
       "      <th>Petroleum</th>\n",
       "      <th>Pumped Storage</th>\n",
       "      <th>Solar Thermal and Photovoltaic</th>\n",
       "      <th>Total</th>\n",
       "      <th>Wind</th>\n",
       "      <th>Wood and Wood Derived Fuels</th>\n",
       "    </tr>\n",
       "    <tr>\n",
       "      <th>Year</th>\n",
       "      <th>State</th>\n",
       "      <th></th>\n",
       "      <th></th>\n",
       "      <th></th>\n",
       "      <th></th>\n",
       "      <th></th>\n",
       "      <th></th>\n",
       "      <th></th>\n",
       "      <th></th>\n",
       "      <th></th>\n",
       "      <th></th>\n",
       "      <th></th>\n",
       "      <th></th>\n",
       "      <th></th>\n",
       "      <th></th>\n",
       "    </tr>\n",
       "  </thead>\n",
       "  <tbody>\n",
       "    <tr>\n",
       "      <td rowspan=\"5\" valign=\"top\">1990</td>\n",
       "      <td>AK</td>\n",
       "      <td>510573</td>\n",
       "      <td>0</td>\n",
       "      <td>974521</td>\n",
       "      <td>3466261</td>\n",
       "      <td>0</td>\n",
       "      <td>0</td>\n",
       "      <td>0</td>\n",
       "      <td>0</td>\n",
       "      <td>497116</td>\n",
       "      <td>0</td>\n",
       "      <td>0</td>\n",
       "      <td>5599506</td>\n",
       "      <td>0</td>\n",
       "      <td>151035</td>\n",
       "    </tr>\n",
       "    <tr>\n",
       "      <td>AL</td>\n",
       "      <td>53658115</td>\n",
       "      <td>0</td>\n",
       "      <td>10366507</td>\n",
       "      <td>1020714</td>\n",
       "      <td>12051882</td>\n",
       "      <td>0</td>\n",
       "      <td>47503</td>\n",
       "      <td>269476</td>\n",
       "      <td>138089</td>\n",
       "      <td>0</td>\n",
       "      <td>0</td>\n",
       "      <td>79652133</td>\n",
       "      <td>0</td>\n",
       "      <td>2099847</td>\n",
       "    </tr>\n",
       "    <tr>\n",
       "      <td>AR</td>\n",
       "      <td>19207935</td>\n",
       "      <td>0</td>\n",
       "      <td>3654653</td>\n",
       "      <td>3578573</td>\n",
       "      <td>11282053</td>\n",
       "      <td>0</td>\n",
       "      <td>15389</td>\n",
       "      <td>0</td>\n",
       "      <td>79979</td>\n",
       "      <td>42972</td>\n",
       "      <td>0</td>\n",
       "      <td>39099598</td>\n",
       "      <td>0</td>\n",
       "      <td>1238044</td>\n",
       "    </tr>\n",
       "    <tr>\n",
       "      <td>AZ</td>\n",
       "      <td>31915610</td>\n",
       "      <td>0</td>\n",
       "      <td>7417576</td>\n",
       "      <td>2333900</td>\n",
       "      <td>20597689</td>\n",
       "      <td>0</td>\n",
       "      <td>0</td>\n",
       "      <td>0</td>\n",
       "      <td>151867</td>\n",
       "      <td>249767</td>\n",
       "      <td>0</td>\n",
       "      <td>62774297</td>\n",
       "      <td>0</td>\n",
       "      <td>107888</td>\n",
       "    </tr>\n",
       "    <tr>\n",
       "      <td>CA</td>\n",
       "      <td>2637677</td>\n",
       "      <td>14521254</td>\n",
       "      <td>23792567</td>\n",
       "      <td>74168308</td>\n",
       "      <td>32692807</td>\n",
       "      <td>0</td>\n",
       "      <td>2117915</td>\n",
       "      <td>2146742</td>\n",
       "      <td>5473852</td>\n",
       "      <td>986252</td>\n",
       "      <td>366668</td>\n",
       "      <td>165784909</td>\n",
       "      <td>2758881</td>\n",
       "      <td>4121986</td>\n",
       "    </tr>\n",
       "  </tbody>\n",
       "</table>\n",
       "</div>"
      ],
      "text/plain": [
       "0            Gen MWh                                                    \\\n",
       "Source          Coal Geothermal Hydroelectric Conventional Natural Gas   \n",
       "Year State                                                               \n",
       "1990 AK       510573          0                     974521     3466261   \n",
       "     AL     53658115          0                   10366507     1020714   \n",
       "     AR     19207935          0                    3654653     3578573   \n",
       "     AZ     31915610          0                    7417576     2333900   \n",
       "     CA      2637677   14521254                   23792567    74168308   \n",
       "\n",
       "0                                                                              \\\n",
       "Source       Nuclear Other Other Biomass Other Gases Petroleum Pumped Storage   \n",
       "Year State                                                                      \n",
       "1990 AK            0     0             0           0    497116              0   \n",
       "     AL     12051882     0         47503      269476    138089              0   \n",
       "     AR     11282053     0         15389           0     79979          42972   \n",
       "     AZ     20597689     0             0           0    151867         249767   \n",
       "     CA     32692807     0       2117915     2146742   5473852         986252   \n",
       "\n",
       "0                                                              \\\n",
       "Source     Solar Thermal and Photovoltaic      Total     Wind   \n",
       "Year State                                                      \n",
       "1990 AK                                 0    5599506        0   \n",
       "     AL                                 0   79652133        0   \n",
       "     AR                                 0   39099598        0   \n",
       "     AZ                                 0   62774297        0   \n",
       "     CA                            366668  165784909  2758881   \n",
       "\n",
       "0                                       \n",
       "Source     Wood and Wood Derived Fuels  \n",
       "Year State                              \n",
       "1990 AK                         151035  \n",
       "     AL                        2099847  \n",
       "     AR                        1238044  \n",
       "     AZ                         107888  \n",
       "     CA                        4121986  "
      ]
     },
     "execution_count": 29,
     "metadata": {},
     "output_type": "execute_result"
    }
   ],
   "source": [
    "dfg_pivot.head()"
   ]
  },
  {
   "cell_type": "code",
   "execution_count": 30,
   "metadata": {
    "scrolled": false
   },
   "outputs": [
    {
     "data": {
      "text/plain": [
       "MultiIndex([('Gen MWh',                           'Coal'),\n",
       "            ('Gen MWh',                     'Geothermal'),\n",
       "            ('Gen MWh',     'Hydroelectric Conventional'),\n",
       "            ('Gen MWh',                    'Natural Gas'),\n",
       "            ('Gen MWh',                        'Nuclear'),\n",
       "            ('Gen MWh',                          'Other'),\n",
       "            ('Gen MWh',                  'Other Biomass'),\n",
       "            ('Gen MWh',                    'Other Gases'),\n",
       "            ('Gen MWh',                      'Petroleum'),\n",
       "            ('Gen MWh',                 'Pumped Storage'),\n",
       "            ('Gen MWh', 'Solar Thermal and Photovoltaic'),\n",
       "            ('Gen MWh',                          'Total'),\n",
       "            ('Gen MWh',                           'Wind'),\n",
       "            ('Gen MWh',    'Wood and Wood Derived Fuels')],\n",
       "           names=[0, 'Source'])"
      ]
     },
     "execution_count": 30,
     "metadata": {},
     "output_type": "execute_result"
    }
   ],
   "source": [
    "dfg_pivot.columns"
   ]
  },
  {
   "cell_type": "code",
   "execution_count": 31,
   "metadata": {},
   "outputs": [],
   "source": [
    "dfg_pivot_cols = list(dfg_pivot.columns)"
   ]
  },
  {
   "cell_type": "code",
   "execution_count": null,
   "metadata": {
    "scrolled": true
   },
   "outputs": [],
   "source": [
    "multi_0 = dfg_pivot[dfg_pivot_cols[0]]\n",
    "multi_1 = dfg_pivot[dfg_pivot_cols[1]] \n",
    "multi_2 = dfg_pivot[dfg_pivot_cols[2]]\n",
    "multi_3 = dfg_pivot[dfg_pivot_cols[3]]\n",
    "multi_4 = dfg_pivot[dfg_pivot_cols[4]]\n",
    "multi_5 = dfg_pivot[dfg_pivot_cols[5]]\n",
    "multi_6 = dfg_pivot[dfg_pivot_cols[6]]\n",
    "multi_7 = dfg_pivot[dfg_pivot_cols[7]]\n",
    "multi_8 = dfg_pivot[dfg_pivot_cols[8]]\n",
    "multi_9 = dfg_pivot[dfg_pivot_cols[9]]\n",
    "multi_10 = dfg_pivot[dfg_pivot_cols[10]]\n",
    "multi_11 = dfg_pivot[dfg_pivot_cols[11]]\n",
    "multi_12 = dfg_pivot[dfg_pivot_cols[12]]\n",
    "multi_13 = dfg_pivot[dfg_pivot_cols[13]]\n",
    "\n",
    "#dfg_pivot[('Gen MWh', 'Calcuated Total')] = multi_0"
   ]
  },
  {
   "cell_type": "code",
   "execution_count": null,
   "metadata": {},
   "outputs": [],
   "source": [
    "dfg_pivot.head()"
   ]
  },
  {
   "cell_type": "code",
   "execution_count": null,
   "metadata": {},
   "outputs": [],
   "source": [
    "dfg_pivot['']"
   ]
  },
  {
   "cell_type": "code",
   "execution_count": null,
   "metadata": {},
   "outputs": [],
   "source": [
    "dfg_pivot['Totals Calculated'] = [ for i in range(0,11)]"
   ]
  },
  {
   "cell_type": "code",
   "execution_count": null,
   "metadata": {},
   "outputs": [],
   "source": []
  },
  {
   "cell_type": "code",
   "execution_count": null,
   "metadata": {},
   "outputs": [],
   "source": []
  },
  {
   "cell_type": "code",
   "execution_count": null,
   "metadata": {},
   "outputs": [],
   "source": []
  },
  {
   "cell_type": "code",
   "execution_count": null,
   "metadata": {},
   "outputs": [],
   "source": []
  },
  {
   "cell_type": "code",
   "execution_count": null,
   "metadata": {},
   "outputs": [],
   "source": []
  },
  {
   "cell_type": "code",
   "execution_count": null,
   "metadata": {},
   "outputs": [],
   "source": []
  },
  {
   "cell_type": "code",
   "execution_count": null,
   "metadata": {},
   "outputs": [],
   "source": []
  },
  {
   "cell_type": "markdown",
   "metadata": {},
   "source": [
    "For each Year/State combination, a \"Total\" row, representing all generation, is provided by EIA. There are also rows for each generation source (the list in the cell below). In the section below, we compare the sum of MWh generated by each individual source with the Year/State Total, to confirm that the sum of all sources is equal to the \"Total\" column."
   ]
  },
  {
   "cell_type": "code",
   "execution_count": null,
   "metadata": {},
   "outputs": [],
   "source": [
    "# Here we display all the different sources of electricity generation.\n",
    "dfg['Source'].unique()"
   ]
  },
  {
   "cell_type": "code",
   "execution_count": null,
   "metadata": {},
   "outputs": [],
   "source": [
    "def gen_totals(Year, State):\n",
    "    \n",
    "    # Here we extract a \"sources\" dataframe, which is specific to a given Year/State combination, \n",
    "    # and the MWH generated by all generation sources. It contains the MWh generated by each of the \n",
    "    # sources listed in the cell above.\n",
    "    sources =    dfg[(dfg['Year'] == Year) & \n",
    "                (dfg['State'] == State) & \n",
    "                (dfg['Producer Type'] == \"Total Electric Power Industry\")]['Gen MWh']\n",
    "    \n",
    "    # Here we extract the individual row that represents only the TOTAL generation for that Year/State\n",
    "    gen_total =  int(dfg[(dfg['Year'] == Year) &\n",
    "                (dfg['State'] == State) & \n",
    "                (dfg['Producer Type'] == \"Total Electric Power Industry\")]['Gen MWh'][0:1].values)\n",
    "\n",
    "    # Here we extract all generation EXCEPT the Total:\n",
    "    gen_sum =   dfg[(dfg['Year'] == Year) & \n",
    "               (dfg['State'] == State) & \n",
    "               (dfg['Producer Type'] == \"Total Electric Power Industry\")]['Gen MWh'][1:len(sources)].sum() \n",
    "        \n",
    "    # We'll define a threshhold, below which we accept the reported total and the calculated total are\n",
    "    # functionally equal, which is 10 MWh. \n",
    "    # Considering even a very small state generates millions of MHW/yr, \n",
    "    # anything this small represents a rounding error:\n",
    "    if abs(gen_total - gen_sum) < 10:\n",
    "        return True\n",
    "    else:\n",
    "        return False"
   ]
  },
  {
   "cell_type": "markdown",
   "metadata": {},
   "source": [
    "Here is an example of the output for once year/State:"
   ]
  },
  {
   "cell_type": "code",
   "execution_count": null,
   "metadata": {
    "scrolled": false
   },
   "outputs": [],
   "source": [
    "gen_totals(2016, \"RI\")"
   ]
  },
  {
   "cell_type": "markdown",
   "metadata": {},
   "source": [
    "The for loop below will confirm that we have no mistakes in our data. Any Year/State combinations for which the reported total does not equal the calculated total will be printed.<br><br> **NOTE:** this will take around 30 seconds to run on a newer computer:"
   ]
  },
  {
   "cell_type": "code",
   "execution_count": null,
   "metadata": {},
   "outputs": [],
   "source": [
    "for year in dfg['Year'].unique():\n",
    "    for state in dfg['State'].unique():\n",
    "        if gen_totals(year, state) == True:\n",
    "            pass\n",
    "        else:\n",
    "            print(year, state)"
   ]
  },
  {
   "cell_type": "markdown",
   "metadata": {},
   "source": [
    "We can confirm that the sum of all generation sources is equal to the \"Total\" column."
   ]
  },
  {
   "cell_type": "code",
   "execution_count": null,
   "metadata": {},
   "outputs": [],
   "source": []
  },
  {
   "cell_type": "code",
   "execution_count": null,
   "metadata": {},
   "outputs": [],
   "source": []
  },
  {
   "cell_type": "code",
   "execution_count": null,
   "metadata": {},
   "outputs": [],
   "source": []
  },
  {
   "cell_type": "code",
   "execution_count": null,
   "metadata": {},
   "outputs": [],
   "source": [
    "dfg.shape"
   ]
  },
  {
   "cell_type": "code",
   "execution_count": null,
   "metadata": {},
   "outputs": [],
   "source": []
  },
  {
   "cell_type": "code",
   "execution_count": null,
   "metadata": {
    "scrolled": false
   },
   "outputs": [],
   "source": [
    "dfg['Producer Type'].unique()"
   ]
  },
  {
   "cell_type": "markdown",
   "metadata": {},
   "source": [
    "We no longer need \"Producer Type\" at all as it only has one value. Here we drop the column:"
   ]
  },
  {
   "cell_type": "code",
   "execution_count": null,
   "metadata": {},
   "outputs": [],
   "source": [
    "dfg.drop([\"Producer Type\"], axis = 1, inplace = True)"
   ]
  },
  {
   "cell_type": "markdown",
   "metadata": {},
   "source": [
    "We have 51 States and 29 years, or 1479 combinations of State and Year. There are an average of around 9 rows per State and Year combination, which is in the expected range of one Total row and an average of 8 generation types for each."
   ]
  },
  {
   "cell_type": "code",
   "execution_count": null,
   "metadata": {},
   "outputs": [],
   "source": [
    "dfg.shape"
   ]
  },
  {
   "cell_type": "code",
   "execution_count": null,
   "metadata": {},
   "outputs": [],
   "source": [
    "dfg.head()"
   ]
  },
  {
   "cell_type": "code",
   "execution_count": null,
   "metadata": {
    "scrolled": true
   },
   "outputs": [],
   "source": [
    "dfg['Source'].unique()"
   ]
  },
  {
   "cell_type": "markdown",
   "metadata": {},
   "source": [
    "Let's shorten some of the Source names:"
   ]
  },
  {
   "cell_type": "code",
   "execution_count": null,
   "metadata": {
    "scrolled": true
   },
   "outputs": [],
   "source": [
    "dfg.replace({\"Source\": {\"Hydroelectric Conventional\": \"Hydroelectric\", \n",
    "                        \"Solar Thermal and Photovoltaic\": \"Solar Thermal/PV\"}})"
   ]
  },
  {
   "cell_type": "markdown",
   "metadata": {},
   "source": [
    "Let's pivot our dataframe, so each Year / State combination is a row, and each generation source is a column with Gen MWh as the value:"
   ]
  },
  {
   "cell_type": "code",
   "execution_count": null,
   "metadata": {},
   "outputs": [],
   "source": [
    "dfg = pd.pivot_table(data=dfg,index=[\"Year\", \"State\"], columns = \"Source\", values = \"Gen MWh\", fill_value=0)\n",
    "dfg.reset_index(level=[0,1], inplace = True)\n",
    "dfg.head()"
   ]
  },
  {
   "cell_type": "code",
   "execution_count": null,
   "metadata": {
    "scrolled": true
   },
   "outputs": [],
   "source": [
    "dfg[\"Biomass\"] = dfg[\"Wood and Wood Derived Fuels\"] + dfg[\"Other Biomass\"]"
   ]
  },
  {
   "cell_type": "markdown",
   "metadata": {},
   "source": [
    "We can also drop \"Wood and Wood Derived Fuels\" and \"Other Biomass\" now that we have the combined \"Biomass\" column:"
   ]
  },
  {
   "cell_type": "code",
   "execution_count": null,
   "metadata": {},
   "outputs": [],
   "source": [
    "dfg.drop([\"Wood and Wood Derived Fuels\", \"Other Biomass\"], axis = 1, inplace = True)"
   ]
  },
  {
   "cell_type": "markdown",
   "metadata": {},
   "source": [
    "Changing our float display format will make the data easier to interpret visually:"
   ]
  },
  {
   "cell_type": "code",
   "execution_count": null,
   "metadata": {},
   "outputs": [],
   "source": [
    "pd.options.display.float_format = '{:,.0f}'.format"
   ]
  },
  {
   "cell_type": "code",
   "execution_count": null,
   "metadata": {},
   "outputs": [],
   "source": [
    "dfg.head()"
   ]
  },
  {
   "cell_type": "code",
   "execution_count": null,
   "metadata": {},
   "outputs": [],
   "source": [
    "dfg.to_csv('./data/electricity-generation.csv')"
   ]
  },
  {
   "cell_type": "code",
   "execution_count": null,
   "metadata": {},
   "outputs": [],
   "source": []
  }
 ],
 "metadata": {
  "kernelspec": {
   "display_name": "Python 3",
   "language": "python",
   "name": "python3"
  },
  "language_info": {
   "codemirror_mode": {
    "name": "ipython",
    "version": 3
   },
   "file_extension": ".py",
   "mimetype": "text/x-python",
   "name": "python",
   "nbconvert_exporter": "python",
   "pygments_lexer": "ipython3",
   "version": "3.7.4"
  },
  "toc": {
   "base_numbering": 1,
   "nav_menu": {},
   "number_sections": true,
   "sideBar": true,
   "skip_h1_title": false,
   "title_cell": "Table of Contents",
   "title_sidebar": "Contents",
   "toc_cell": false,
   "toc_position": {},
   "toc_section_display": true,
   "toc_window_display": true
  }
 },
 "nbformat": 4,
 "nbformat_minor": 2
}
