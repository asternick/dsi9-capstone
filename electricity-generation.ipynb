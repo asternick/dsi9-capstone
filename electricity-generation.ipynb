{
 "cells": [
  {
   "cell_type": "code",
   "execution_count": 1,
   "metadata": {},
   "outputs": [],
   "source": [
    "import pandas as pd\n",
    "import numpy as np\n",
    "import matplotlib.pyplot as plt\n",
    "import seaborn as sns\n",
    "import warnings\n",
    "warnings.simplefilter(action='ignore', category=FutureWarning)"
   ]
  },
  {
   "cell_type": "code",
   "execution_count": 2,
   "metadata": {},
   "outputs": [],
   "source": [
    "dfg = pd.read_excel('./data/annual_generation_state.xls')"
   ]
  },
  {
   "cell_type": "code",
   "execution_count": 3,
   "metadata": {},
   "outputs": [],
   "source": [
    "# Resetting column headings\n",
    "dfg.columns = dfg.iloc[0]\n",
    "dfg.drop([0], inplace = True)"
   ]
  },
  {
   "cell_type": "code",
   "execution_count": 4,
   "metadata": {},
   "outputs": [
    {
     "data": {
      "text/html": [
       "<div>\n",
       "<style scoped>\n",
       "    .dataframe tbody tr th:only-of-type {\n",
       "        vertical-align: middle;\n",
       "    }\n",
       "\n",
       "    .dataframe tbody tr th {\n",
       "        vertical-align: top;\n",
       "    }\n",
       "\n",
       "    .dataframe thead th {\n",
       "        text-align: right;\n",
       "    }\n",
       "</style>\n",
       "<table border=\"1\" class=\"dataframe\">\n",
       "  <thead>\n",
       "    <tr style=\"text-align: right;\">\n",
       "      <th></th>\n",
       "      <th>YEAR</th>\n",
       "      <th>STATE</th>\n",
       "      <th>TYPE OF PRODUCER</th>\n",
       "      <th>ENERGY SOURCE</th>\n",
       "      <th>GENERATION (Megawatthours)</th>\n",
       "    </tr>\n",
       "  </thead>\n",
       "  <tbody>\n",
       "    <tr>\n",
       "      <td>1</td>\n",
       "      <td>1990</td>\n",
       "      <td>AK</td>\n",
       "      <td>Total Electric Power Industry</td>\n",
       "      <td>Total</td>\n",
       "      <td>5599506</td>\n",
       "    </tr>\n",
       "    <tr>\n",
       "      <td>2</td>\n",
       "      <td>1990</td>\n",
       "      <td>AK</td>\n",
       "      <td>Total Electric Power Industry</td>\n",
       "      <td>Coal</td>\n",
       "      <td>510573</td>\n",
       "    </tr>\n",
       "    <tr>\n",
       "      <td>3</td>\n",
       "      <td>1990</td>\n",
       "      <td>AK</td>\n",
       "      <td>Total Electric Power Industry</td>\n",
       "      <td>Hydroelectric Conventional</td>\n",
       "      <td>974521</td>\n",
       "    </tr>\n",
       "    <tr>\n",
       "      <td>4</td>\n",
       "      <td>1990</td>\n",
       "      <td>AK</td>\n",
       "      <td>Total Electric Power Industry</td>\n",
       "      <td>Natural Gas</td>\n",
       "      <td>3466261</td>\n",
       "    </tr>\n",
       "    <tr>\n",
       "      <td>5</td>\n",
       "      <td>1990</td>\n",
       "      <td>AK</td>\n",
       "      <td>Total Electric Power Industry</td>\n",
       "      <td>Petroleum</td>\n",
       "      <td>497116</td>\n",
       "    </tr>\n",
       "  </tbody>\n",
       "</table>\n",
       "</div>"
      ],
      "text/plain": [
       "0  YEAR STATE               TYPE OF PRODUCER               ENERGY SOURCE  \\\n",
       "1  1990    AK  Total Electric Power Industry                       Total   \n",
       "2  1990    AK  Total Electric Power Industry                        Coal   \n",
       "3  1990    AK  Total Electric Power Industry  Hydroelectric Conventional   \n",
       "4  1990    AK  Total Electric Power Industry                 Natural Gas   \n",
       "5  1990    AK  Total Electric Power Industry                   Petroleum   \n",
       "\n",
       "0 GENERATION (Megawatthours)  \n",
       "1                    5599506  \n",
       "2                     510573  \n",
       "3                     974521  \n",
       "4                    3466261  \n",
       "5                     497116  "
      ]
     },
     "execution_count": 4,
     "metadata": {},
     "output_type": "execute_result"
    }
   ],
   "source": [
    "dfg.head()"
   ]
  },
  {
   "cell_type": "markdown",
   "metadata": {},
   "source": [
    "EIA data is quite complete:"
   ]
  },
  {
   "cell_type": "code",
   "execution_count": 5,
   "metadata": {
    "scrolled": false
   },
   "outputs": [
    {
     "data": {
      "text/plain": [
       "0\n",
       "YEAR                          0\n",
       "STATE                         0\n",
       "TYPE OF PRODUCER              0\n",
       "ENERGY SOURCE                 0\n",
       "GENERATION (Megawatthours)    0\n",
       "dtype: int64"
      ]
     },
     "execution_count": 5,
     "metadata": {},
     "output_type": "execute_result"
    }
   ],
   "source": [
    "dfg.isnull().sum()"
   ]
  },
  {
   "cell_type": "markdown",
   "metadata": {},
   "source": [
    "All-caps column names will be difficult to work with, so here we rename:"
   ]
  },
  {
   "cell_type": "code",
   "execution_count": 6,
   "metadata": {},
   "outputs": [],
   "source": [
    "column_rename = {\"YEAR\": \"Year\", \n",
    "                 \"STATE\": \"State\", \n",
    "                 \"TYPE OF PRODUCER\": \"Producer Type\",\n",
    "                 \"ENERGY SOURCE\": \"Source\", \n",
    "                 \"GENERATION (Megawatthours)\": \"Gen MWh\"}\n",
    "\n",
    "dfg.rename(columns=column_rename, inplace=True)"
   ]
  },
  {
   "cell_type": "markdown",
   "metadata": {},
   "source": [
    "However not all our data types are as expected. \"Year\" and \"GENERATION (Megawatthours)\" are expected to be numeric but they are not. We do not (yet) need Year as datetime, so we will convert both these columns to int."
   ]
  },
  {
   "cell_type": "code",
   "execution_count": 7,
   "metadata": {
    "scrolled": true
   },
   "outputs": [
    {
     "data": {
      "text/plain": [
       "0\n",
       "Year             object\n",
       "State            object\n",
       "Producer Type    object\n",
       "Source           object\n",
       "Gen MWh          object\n",
       "dtype: object"
      ]
     },
     "execution_count": 7,
     "metadata": {},
     "output_type": "execute_result"
    }
   ],
   "source": [
    "dfg.dtypes"
   ]
  },
  {
   "cell_type": "code",
   "execution_count": 8,
   "metadata": {},
   "outputs": [],
   "source": [
    "dfg['Gen MWh'] = dfg['Gen MWh'].astype(int)\n",
    "dfg['Year'] = dfg['Year'].astype(int)"
   ]
  },
  {
   "cell_type": "markdown",
   "metadata": {},
   "source": [
    "We have 29 years of data, 1990 to 2018, just like our rates data:"
   ]
  },
  {
   "cell_type": "code",
   "execution_count": 9,
   "metadata": {
    "scrolled": true
   },
   "outputs": [
    {
     "data": {
      "text/plain": [
       "array([1990, 1991, 1992, 1993, 1994, 1995, 1996, 1997, 1998, 1999, 2000,\n",
       "       2001, 2002, 2003, 2004, 2005, 2006, 2007, 2008, 2009, 2010, 2011,\n",
       "       2012, 2013, 2014, 2015, 2016, 2017, 2018])"
      ]
     },
     "execution_count": 9,
     "metadata": {},
     "output_type": "execute_result"
    }
   ],
   "source": [
    "dfg['Year'].unique()"
   ]
  },
  {
   "cell_type": "markdown",
   "metadata": {},
   "source": [
    "There are 54 State categories, which is unexpected and worth investigation:"
   ]
  },
  {
   "cell_type": "code",
   "execution_count": 10,
   "metadata": {
    "scrolled": true
   },
   "outputs": [
    {
     "data": {
      "text/plain": [
       "54"
      ]
     },
     "execution_count": 10,
     "metadata": {},
     "output_type": "execute_result"
    }
   ],
   "source": [
    "dfg['State'].nunique()"
   ]
  },
  {
   "cell_type": "markdown",
   "metadata": {},
   "source": [
    "Beyond the 50 states plus DC, we have some blanks (' '), and two total US categories, \"US-TOTAL\" and \"US-Total\":"
   ]
  },
  {
   "cell_type": "code",
   "execution_count": 11,
   "metadata": {
    "scrolled": true
   },
   "outputs": [
    {
     "data": {
      "text/plain": [
       "array(['AK', 'AL', 'AR', 'AZ', 'CA', 'CO', 'CT', 'DC', 'DE', 'FL', 'GA',\n",
       "       'HI', 'IA', 'ID', 'IL', 'IN', 'KS', 'KY', 'LA', 'MA', 'MD', 'ME',\n",
       "       'MI', 'MN', 'MO', 'MS', 'MT', 'NC', 'ND', 'NE', 'NH', 'NJ', 'NM',\n",
       "       'NV', 'NY', 'OH', 'OK', 'OR', 'PA', 'RI', 'SC', 'SD', 'TN', 'TX',\n",
       "       'US-TOTAL', 'UT', 'VA', 'VT', 'WA', 'WI', 'WV', 'WY', '  ',\n",
       "       'US-Total'], dtype=object)"
      ]
     },
     "execution_count": 11,
     "metadata": {},
     "output_type": "execute_result"
    }
   ],
   "source": [
    "dfg['State'].unique()"
   ]
  },
  {
   "cell_type": "markdown",
   "metadata": {},
   "source": [
    "All three blank State items represent 0 MWh of generation, which is not meaningfu data. We lose nothing by dropping these rows."
   ]
  },
  {
   "cell_type": "code",
   "execution_count": 12,
   "metadata": {},
   "outputs": [
    {
     "data": {
      "text/html": [
       "<div>\n",
       "<style scoped>\n",
       "    .dataframe tbody tr th:only-of-type {\n",
       "        vertical-align: middle;\n",
       "    }\n",
       "\n",
       "    .dataframe tbody tr th {\n",
       "        vertical-align: top;\n",
       "    }\n",
       "\n",
       "    .dataframe thead th {\n",
       "        text-align: right;\n",
       "    }\n",
       "</style>\n",
       "<table border=\"1\" class=\"dataframe\">\n",
       "  <thead>\n",
       "    <tr style=\"text-align: right;\">\n",
       "      <th></th>\n",
       "      <th>Year</th>\n",
       "      <th>State</th>\n",
       "      <th>Producer Type</th>\n",
       "      <th>Source</th>\n",
       "      <th>Gen MWh</th>\n",
       "    </tr>\n",
       "  </thead>\n",
       "  <tbody>\n",
       "    <tr>\n",
       "      <td>20577</td>\n",
       "      <td>2003</td>\n",
       "      <td></td>\n",
       "      <td>Total Electric Power Industry</td>\n",
       "      <td>Coal</td>\n",
       "      <td>0</td>\n",
       "    </tr>\n",
       "    <tr>\n",
       "      <td>20578</td>\n",
       "      <td>2003</td>\n",
       "      <td></td>\n",
       "      <td>Total Electric Power Industry</td>\n",
       "      <td>Natural Gas</td>\n",
       "      <td>0</td>\n",
       "    </tr>\n",
       "    <tr>\n",
       "      <td>20579</td>\n",
       "      <td>2003</td>\n",
       "      <td></td>\n",
       "      <td>Total Electric Power Industry</td>\n",
       "      <td>Petroleum</td>\n",
       "      <td>0</td>\n",
       "    </tr>\n",
       "  </tbody>\n",
       "</table>\n",
       "</div>"
      ],
      "text/plain": [
       "0      Year State                  Producer Type       Source  Gen MWh\n",
       "20577  2003        Total Electric Power Industry         Coal        0\n",
       "20578  2003        Total Electric Power Industry  Natural Gas        0\n",
       "20579  2003        Total Electric Power Industry    Petroleum        0"
      ]
     },
     "execution_count": 12,
     "metadata": {},
     "output_type": "execute_result"
    }
   ],
   "source": [
    "dfg.loc[dfg['State'] == \"  \"]"
   ]
  },
  {
   "cell_type": "code",
   "execution_count": 13,
   "metadata": {},
   "outputs": [],
   "source": [
    "dfg = dfg[dfg['State'] != \"  \"]"
   ]
  },
  {
   "cell_type": "markdown",
   "metadata": {},
   "source": [
    "We should also drop the US-TOTAL / US-Total data. We are not modeling the entire country, so the state data are all we need."
   ]
  },
  {
   "cell_type": "code",
   "execution_count": 14,
   "metadata": {},
   "outputs": [],
   "source": [
    "dfg = dfg[dfg['State'] != \"US-TOTAL\"]\n",
    "dfg = dfg[dfg['State'] != \"US-Total\"]"
   ]
  },
  {
   "cell_type": "markdown",
   "metadata": {},
   "source": [
    "It makes sense to boil our data down to the key rows: **Producer Type** \"Total Electric Power Industry\", each possible **Source**, along with the **Source**:Total from all reported generation sources. Before doing this, which will mean dropping many rows, let's confirm that the sum of all sources equals the total in the data. "
   ]
  },
  {
   "cell_type": "code",
   "execution_count": 15,
   "metadata": {},
   "outputs": [],
   "source": [
    "def gen_totals(Year, State):\n",
    "    \n",
    "    sources =    dfg[(dfg['Year'] == Year) & \n",
    "                (dfg['State'] == State) & \n",
    "                (dfg['Producer Type'] == \"Total Electric Power Industry\")]['Gen MWh']\n",
    "    \n",
    "    gen_total =  int(dfg[(dfg['Year'] == Year) &\n",
    "                (dfg['State'] == State) & \n",
    "                (dfg['Producer Type'] == \"Total Electric Power Industry\")]['Gen MWh'][0:1].values)\n",
    "\n",
    "    gen_sum =   dfg[(dfg['Year'] == Year) & \n",
    "               (dfg['State'] == State) & \n",
    "               (dfg['Producer Type'] == \"Total Electric Power Industry\")]['Gen MWh'][1:len(sources)].sum() \n",
    "        \n",
    "    # We'll define a threshhold bewteen the reported total and the sum of 10\n",
    "    # Considering even a very small state generates millions of MHW/yr, \n",
    "    # anything this small represents a rounding error.\n",
    "    if abs(gen_total - gen_sum) < 10:\n",
    "        return True\n",
    "    else:\n",
    "        return False"
   ]
  },
  {
   "cell_type": "markdown",
   "metadata": {},
   "source": [
    "Here is an example of the output for once year/State:"
   ]
  },
  {
   "cell_type": "code",
   "execution_count": 16,
   "metadata": {
    "scrolled": false
   },
   "outputs": [
    {
     "data": {
      "text/plain": [
       "True"
      ]
     },
     "execution_count": 16,
     "metadata": {},
     "output_type": "execute_result"
    }
   ],
   "source": [
    "gen_totals(2016, \"RI\")"
   ]
  },
  {
   "cell_type": "markdown",
   "metadata": {},
   "source": [
    "The for loop below will confirm that we have no mistakes in our data (spoiler alert - there are none).<br><br> **NOTE:** this will take around 30 seconds to run on a newer computer:"
   ]
  },
  {
   "cell_type": "code",
   "execution_count": 17,
   "metadata": {},
   "outputs": [],
   "source": [
    "for year in dfg['Year'].unique():\n",
    "    for state in dfg['State'].unique():\n",
    "        if gen_totals(year, state) == True:\n",
    "            pass\n",
    "        else:\n",
    "            print(year, state)"
   ]
  },
  {
   "cell_type": "markdown",
   "metadata": {},
   "source": [
    "We no longer need \"Producer Type\" at all as it only has one value. Here we drop the column:"
   ]
  },
  {
   "cell_type": "code",
   "execution_count": 18,
   "metadata": {},
   "outputs": [],
   "source": [
    "dfg.drop([\"Producer Type\"], axis = 1, inplace = True)"
   ]
  },
  {
   "cell_type": "markdown",
   "metadata": {},
   "source": [
    "We have 51 States and 29 years, or 1479 combinations of State and Year. There are an average of around 9 rows per State and Year combination, which is in the expected range of one Total row and an average of 8 generation types for each."
   ]
  },
  {
   "cell_type": "code",
   "execution_count": 19,
   "metadata": {},
   "outputs": [
    {
     "data": {
      "text/plain": [
       "(49659, 4)"
      ]
     },
     "execution_count": 19,
     "metadata": {},
     "output_type": "execute_result"
    }
   ],
   "source": [
    "dfg.shape"
   ]
  },
  {
   "cell_type": "code",
   "execution_count": 20,
   "metadata": {},
   "outputs": [
    {
     "data": {
      "text/html": [
       "<div>\n",
       "<style scoped>\n",
       "    .dataframe tbody tr th:only-of-type {\n",
       "        vertical-align: middle;\n",
       "    }\n",
       "\n",
       "    .dataframe tbody tr th {\n",
       "        vertical-align: top;\n",
       "    }\n",
       "\n",
       "    .dataframe thead th {\n",
       "        text-align: right;\n",
       "    }\n",
       "</style>\n",
       "<table border=\"1\" class=\"dataframe\">\n",
       "  <thead>\n",
       "    <tr style=\"text-align: right;\">\n",
       "      <th></th>\n",
       "      <th>Year</th>\n",
       "      <th>State</th>\n",
       "      <th>Source</th>\n",
       "      <th>Gen MWh</th>\n",
       "    </tr>\n",
       "  </thead>\n",
       "  <tbody>\n",
       "    <tr>\n",
       "      <td>1</td>\n",
       "      <td>1990</td>\n",
       "      <td>AK</td>\n",
       "      <td>Total</td>\n",
       "      <td>5599506</td>\n",
       "    </tr>\n",
       "    <tr>\n",
       "      <td>2</td>\n",
       "      <td>1990</td>\n",
       "      <td>AK</td>\n",
       "      <td>Coal</td>\n",
       "      <td>510573</td>\n",
       "    </tr>\n",
       "    <tr>\n",
       "      <td>3</td>\n",
       "      <td>1990</td>\n",
       "      <td>AK</td>\n",
       "      <td>Hydroelectric Conventional</td>\n",
       "      <td>974521</td>\n",
       "    </tr>\n",
       "    <tr>\n",
       "      <td>4</td>\n",
       "      <td>1990</td>\n",
       "      <td>AK</td>\n",
       "      <td>Natural Gas</td>\n",
       "      <td>3466261</td>\n",
       "    </tr>\n",
       "    <tr>\n",
       "      <td>5</td>\n",
       "      <td>1990</td>\n",
       "      <td>AK</td>\n",
       "      <td>Petroleum</td>\n",
       "      <td>497116</td>\n",
       "    </tr>\n",
       "  </tbody>\n",
       "</table>\n",
       "</div>"
      ],
      "text/plain": [
       "0  Year State                      Source  Gen MWh\n",
       "1  1990    AK                       Total  5599506\n",
       "2  1990    AK                        Coal   510573\n",
       "3  1990    AK  Hydroelectric Conventional   974521\n",
       "4  1990    AK                 Natural Gas  3466261\n",
       "5  1990    AK                   Petroleum   497116"
      ]
     },
     "execution_count": 20,
     "metadata": {},
     "output_type": "execute_result"
    }
   ],
   "source": [
    "dfg.head()"
   ]
  },
  {
   "cell_type": "code",
   "execution_count": 21,
   "metadata": {
    "scrolled": true
   },
   "outputs": [
    {
     "data": {
      "text/plain": [
       "array(['Total', 'Coal', 'Hydroelectric Conventional', 'Natural Gas',\n",
       "       'Petroleum', 'Wind', 'Wood and Wood Derived Fuels', 'Nuclear',\n",
       "       'Other Biomass', 'Other Gases', 'Pumped Storage', 'Geothermal',\n",
       "       'Other', 'Solar Thermal and Photovoltaic'], dtype=object)"
      ]
     },
     "execution_count": 21,
     "metadata": {},
     "output_type": "execute_result"
    }
   ],
   "source": [
    "dfg['Source'].unique()"
   ]
  },
  {
   "cell_type": "markdown",
   "metadata": {},
   "source": [
    "Let's shorten some of the Source names:"
   ]
  },
  {
   "cell_type": "code",
   "execution_count": 22,
   "metadata": {
    "scrolled": true
   },
   "outputs": [
    {
     "data": {
      "text/html": [
       "<div>\n",
       "<style scoped>\n",
       "    .dataframe tbody tr th:only-of-type {\n",
       "        vertical-align: middle;\n",
       "    }\n",
       "\n",
       "    .dataframe tbody tr th {\n",
       "        vertical-align: top;\n",
       "    }\n",
       "\n",
       "    .dataframe thead th {\n",
       "        text-align: right;\n",
       "    }\n",
       "</style>\n",
       "<table border=\"1\" class=\"dataframe\">\n",
       "  <thead>\n",
       "    <tr style=\"text-align: right;\">\n",
       "      <th></th>\n",
       "      <th>Year</th>\n",
       "      <th>State</th>\n",
       "      <th>Source</th>\n",
       "      <th>Gen MWh</th>\n",
       "    </tr>\n",
       "  </thead>\n",
       "  <tbody>\n",
       "    <tr>\n",
       "      <td>1</td>\n",
       "      <td>1990</td>\n",
       "      <td>AK</td>\n",
       "      <td>Total</td>\n",
       "      <td>5599506</td>\n",
       "    </tr>\n",
       "    <tr>\n",
       "      <td>2</td>\n",
       "      <td>1990</td>\n",
       "      <td>AK</td>\n",
       "      <td>Coal</td>\n",
       "      <td>510573</td>\n",
       "    </tr>\n",
       "    <tr>\n",
       "      <td>3</td>\n",
       "      <td>1990</td>\n",
       "      <td>AK</td>\n",
       "      <td>Hydroelectric</td>\n",
       "      <td>974521</td>\n",
       "    </tr>\n",
       "    <tr>\n",
       "      <td>4</td>\n",
       "      <td>1990</td>\n",
       "      <td>AK</td>\n",
       "      <td>Natural Gas</td>\n",
       "      <td>3466261</td>\n",
       "    </tr>\n",
       "    <tr>\n",
       "      <td>5</td>\n",
       "      <td>1990</td>\n",
       "      <td>AK</td>\n",
       "      <td>Petroleum</td>\n",
       "      <td>497116</td>\n",
       "    </tr>\n",
       "    <tr>\n",
       "      <td>...</td>\n",
       "      <td>...</td>\n",
       "      <td>...</td>\n",
       "      <td>...</td>\n",
       "      <td>...</td>\n",
       "    </tr>\n",
       "    <tr>\n",
       "      <td>51629</td>\n",
       "      <td>2018</td>\n",
       "      <td>WY</td>\n",
       "      <td>Coal</td>\n",
       "      <td>38641538</td>\n",
       "    </tr>\n",
       "    <tr>\n",
       "      <td>51630</td>\n",
       "      <td>2018</td>\n",
       "      <td>WY</td>\n",
       "      <td>Hydroelectric</td>\n",
       "      <td>966509</td>\n",
       "    </tr>\n",
       "    <tr>\n",
       "      <td>51631</td>\n",
       "      <td>2018</td>\n",
       "      <td>WY</td>\n",
       "      <td>Natural Gas</td>\n",
       "      <td>232851</td>\n",
       "    </tr>\n",
       "    <tr>\n",
       "      <td>51632</td>\n",
       "      <td>2018</td>\n",
       "      <td>WY</td>\n",
       "      <td>Petroleum</td>\n",
       "      <td>40084</td>\n",
       "    </tr>\n",
       "    <tr>\n",
       "      <td>51633</td>\n",
       "      <td>2018</td>\n",
       "      <td>WY</td>\n",
       "      <td>Wind</td>\n",
       "      <td>2073966</td>\n",
       "    </tr>\n",
       "  </tbody>\n",
       "</table>\n",
       "<p>49659 rows × 4 columns</p>\n",
       "</div>"
      ],
      "text/plain": [
       "0      Year State         Source   Gen MWh\n",
       "1      1990    AK          Total   5599506\n",
       "2      1990    AK           Coal    510573\n",
       "3      1990    AK  Hydroelectric    974521\n",
       "4      1990    AK    Natural Gas   3466261\n",
       "5      1990    AK      Petroleum    497116\n",
       "...     ...   ...            ...       ...\n",
       "51629  2018    WY           Coal  38641538\n",
       "51630  2018    WY  Hydroelectric    966509\n",
       "51631  2018    WY    Natural Gas    232851\n",
       "51632  2018    WY      Petroleum     40084\n",
       "51633  2018    WY           Wind   2073966\n",
       "\n",
       "[49659 rows x 4 columns]"
      ]
     },
     "execution_count": 22,
     "metadata": {},
     "output_type": "execute_result"
    }
   ],
   "source": [
    "dfg.replace({\"Source\": {\"Hydroelectric Conventional\": \"Hydroelectric\", \n",
    "                        \"Solar Thermal and Photovoltaic\": \"Solar Thermal/PV\"}})"
   ]
  },
  {
   "cell_type": "markdown",
   "metadata": {},
   "source": [
    "Let's pivot our dataframe, so each Year / State combination is a row, and each generation source is a column with Gen MWh as the value:"
   ]
  },
  {
   "cell_type": "code",
   "execution_count": 23,
   "metadata": {},
   "outputs": [
    {
     "data": {
      "text/html": [
       "<div>\n",
       "<style scoped>\n",
       "    .dataframe tbody tr th:only-of-type {\n",
       "        vertical-align: middle;\n",
       "    }\n",
       "\n",
       "    .dataframe tbody tr th {\n",
       "        vertical-align: top;\n",
       "    }\n",
       "\n",
       "    .dataframe thead th {\n",
       "        text-align: right;\n",
       "    }\n",
       "</style>\n",
       "<table border=\"1\" class=\"dataframe\">\n",
       "  <thead>\n",
       "    <tr style=\"text-align: right;\">\n",
       "      <th>Source</th>\n",
       "      <th>Year</th>\n",
       "      <th>State</th>\n",
       "      <th>Coal</th>\n",
       "      <th>Geothermal</th>\n",
       "      <th>Hydroelectric Conventional</th>\n",
       "      <th>Natural Gas</th>\n",
       "      <th>Nuclear</th>\n",
       "      <th>Other</th>\n",
       "      <th>Other Biomass</th>\n",
       "      <th>Other Gases</th>\n",
       "      <th>Petroleum</th>\n",
       "      <th>Pumped Storage</th>\n",
       "      <th>Solar Thermal and Photovoltaic</th>\n",
       "      <th>Total</th>\n",
       "      <th>Wind</th>\n",
       "      <th>Wood and Wood Derived Fuels</th>\n",
       "    </tr>\n",
       "  </thead>\n",
       "  <tbody>\n",
       "    <tr>\n",
       "      <td>0</td>\n",
       "      <td>1990</td>\n",
       "      <td>AK</td>\n",
       "      <td>3.403820e+05</td>\n",
       "      <td>NaN</td>\n",
       "      <td>974521.0</td>\n",
       "      <td>2.310841e+06</td>\n",
       "      <td>NaN</td>\n",
       "      <td>NaN</td>\n",
       "      <td>NaN</td>\n",
       "      <td>NaN</td>\n",
       "      <td>2.485580e+05</td>\n",
       "      <td>NaN</td>\n",
       "      <td>NaN</td>\n",
       "      <td>2.799753e+06</td>\n",
       "      <td>0.0</td>\n",
       "      <td>151035.0</td>\n",
       "    </tr>\n",
       "    <tr>\n",
       "      <td>1</td>\n",
       "      <td>1990</td>\n",
       "      <td>AL</td>\n",
       "      <td>2.682906e+07</td>\n",
       "      <td>NaN</td>\n",
       "      <td>10366507.0</td>\n",
       "      <td>5.103570e+05</td>\n",
       "      <td>12051882.0</td>\n",
       "      <td>NaN</td>\n",
       "      <td>31668.666667</td>\n",
       "      <td>269476.0</td>\n",
       "      <td>9.205933e+04</td>\n",
       "      <td>NaN</td>\n",
       "      <td>NaN</td>\n",
       "      <td>3.186085e+07</td>\n",
       "      <td>NaN</td>\n",
       "      <td>1049923.5</td>\n",
       "    </tr>\n",
       "    <tr>\n",
       "      <td>2</td>\n",
       "      <td>1990</td>\n",
       "      <td>AR</td>\n",
       "      <td>1.280529e+07</td>\n",
       "      <td>NaN</td>\n",
       "      <td>3654653.0</td>\n",
       "      <td>1.789286e+06</td>\n",
       "      <td>11282053.0</td>\n",
       "      <td>NaN</td>\n",
       "      <td>10259.333333</td>\n",
       "      <td>NaN</td>\n",
       "      <td>3.998950e+04</td>\n",
       "      <td>42972.0</td>\n",
       "      <td>NaN</td>\n",
       "      <td>1.954980e+07</td>\n",
       "      <td>NaN</td>\n",
       "      <td>1238044.0</td>\n",
       "    </tr>\n",
       "    <tr>\n",
       "      <td>3</td>\n",
       "      <td>1990</td>\n",
       "      <td>AZ</td>\n",
       "      <td>2.127707e+07</td>\n",
       "      <td>NaN</td>\n",
       "      <td>7417576.0</td>\n",
       "      <td>1.166950e+06</td>\n",
       "      <td>20597689.0</td>\n",
       "      <td>NaN</td>\n",
       "      <td>NaN</td>\n",
       "      <td>NaN</td>\n",
       "      <td>7.593350e+04</td>\n",
       "      <td>249767.0</td>\n",
       "      <td>NaN</td>\n",
       "      <td>3.138715e+07</td>\n",
       "      <td>NaN</td>\n",
       "      <td>107888.0</td>\n",
       "    </tr>\n",
       "    <tr>\n",
       "      <td>4</td>\n",
       "      <td>1990</td>\n",
       "      <td>CA</td>\n",
       "      <td>1.318838e+06</td>\n",
       "      <td>9680836.0</td>\n",
       "      <td>11896283.5</td>\n",
       "      <td>2.472277e+07</td>\n",
       "      <td>32692807.0</td>\n",
       "      <td>0.0</td>\n",
       "      <td>705971.666667</td>\n",
       "      <td>1073371.0</td>\n",
       "      <td>1.824617e+06</td>\n",
       "      <td>986252.0</td>\n",
       "      <td>244445.333333</td>\n",
       "      <td>5.526164e+07</td>\n",
       "      <td>1839254.0</td>\n",
       "      <td>2060993.0</td>\n",
       "    </tr>\n",
       "  </tbody>\n",
       "</table>\n",
       "</div>"
      ],
      "text/plain": [
       "Source  Year State          Coal  Geothermal  Hydroelectric Conventional  \\\n",
       "0       1990    AK  3.403820e+05         NaN                    974521.0   \n",
       "1       1990    AL  2.682906e+07         NaN                  10366507.0   \n",
       "2       1990    AR  1.280529e+07         NaN                   3654653.0   \n",
       "3       1990    AZ  2.127707e+07         NaN                   7417576.0   \n",
       "4       1990    CA  1.318838e+06   9680836.0                  11896283.5   \n",
       "\n",
       "Source   Natural Gas     Nuclear  Other  Other Biomass  Other Gases  \\\n",
       "0       2.310841e+06         NaN    NaN            NaN          NaN   \n",
       "1       5.103570e+05  12051882.0    NaN   31668.666667     269476.0   \n",
       "2       1.789286e+06  11282053.0    NaN   10259.333333          NaN   \n",
       "3       1.166950e+06  20597689.0    NaN            NaN          NaN   \n",
       "4       2.472277e+07  32692807.0    0.0  705971.666667    1073371.0   \n",
       "\n",
       "Source     Petroleum  Pumped Storage  Solar Thermal and Photovoltaic  \\\n",
       "0       2.485580e+05             NaN                             NaN   \n",
       "1       9.205933e+04             NaN                             NaN   \n",
       "2       3.998950e+04         42972.0                             NaN   \n",
       "3       7.593350e+04        249767.0                             NaN   \n",
       "4       1.824617e+06        986252.0                   244445.333333   \n",
       "\n",
       "Source         Total       Wind  Wood and Wood Derived Fuels  \n",
       "0       2.799753e+06        0.0                     151035.0  \n",
       "1       3.186085e+07        NaN                    1049923.5  \n",
       "2       1.954980e+07        NaN                    1238044.0  \n",
       "3       3.138715e+07        NaN                     107888.0  \n",
       "4       5.526164e+07  1839254.0                    2060993.0  "
      ]
     },
     "execution_count": 23,
     "metadata": {},
     "output_type": "execute_result"
    }
   ],
   "source": [
    "dfg = pd.pivot_table(data=dfg,index=[\"Year\", \"State\"], columns = \"Source\", values = \"Gen MWh\")\n",
    "dfg.reset_index(level=[0,1], inplace = True)\n",
    "dfg.head()"
   ]
  },
  {
   "cell_type": "code",
   "execution_count": 24,
   "metadata": {},
   "outputs": [],
   "source": [
    "dfg.fillna(0, inplace=True)"
   ]
  },
  {
   "cell_type": "code",
   "execution_count": 25,
   "metadata": {
    "scrolled": true
   },
   "outputs": [],
   "source": [
    "dfg[\"Biomass\"] = dfg[\"Wood and Wood Derived Fuels\"] + dfg[\"Other Biomass\"]"
   ]
  },
  {
   "cell_type": "markdown",
   "metadata": {},
   "source": [
    "We can also drop \"Wood and Wood Derived Fuels\" and \"Other Biomass\" now that we have the combined \"Biomass\" column:"
   ]
  },
  {
   "cell_type": "code",
   "execution_count": 26,
   "metadata": {},
   "outputs": [],
   "source": [
    "dfg.drop([\"Wood and Wood Derived Fuels\", \"Other Biomass\"], axis = 1, inplace = True)"
   ]
  },
  {
   "cell_type": "markdown",
   "metadata": {},
   "source": [
    "Changing our float display format will make the data easier to interpret visually:"
   ]
  },
  {
   "cell_type": "code",
   "execution_count": 28,
   "metadata": {},
   "outputs": [],
   "source": [
    "pd.options.display.float_format = '{:,.0f}'.format"
   ]
  },
  {
   "cell_type": "code",
   "execution_count": 30,
   "metadata": {},
   "outputs": [
    {
     "data": {
      "text/html": [
       "<div>\n",
       "<style scoped>\n",
       "    .dataframe tbody tr th:only-of-type {\n",
       "        vertical-align: middle;\n",
       "    }\n",
       "\n",
       "    .dataframe tbody tr th {\n",
       "        vertical-align: top;\n",
       "    }\n",
       "\n",
       "    .dataframe thead th {\n",
       "        text-align: right;\n",
       "    }\n",
       "</style>\n",
       "<table border=\"1\" class=\"dataframe\">\n",
       "  <thead>\n",
       "    <tr style=\"text-align: right;\">\n",
       "      <th>Source</th>\n",
       "      <th>Year</th>\n",
       "      <th>State</th>\n",
       "      <th>Coal</th>\n",
       "      <th>Geothermal</th>\n",
       "      <th>Hydroelectric Conventional</th>\n",
       "      <th>Natural Gas</th>\n",
       "      <th>Nuclear</th>\n",
       "      <th>Other</th>\n",
       "      <th>Other Gases</th>\n",
       "      <th>Petroleum</th>\n",
       "      <th>Pumped Storage</th>\n",
       "      <th>Solar Thermal and Photovoltaic</th>\n",
       "      <th>Total</th>\n",
       "      <th>Wind</th>\n",
       "      <th>Biomass</th>\n",
       "    </tr>\n",
       "  </thead>\n",
       "  <tbody>\n",
       "    <tr>\n",
       "      <td>0</td>\n",
       "      <td>1990</td>\n",
       "      <td>AK</td>\n",
       "      <td>340,382</td>\n",
       "      <td>0</td>\n",
       "      <td>974,521</td>\n",
       "      <td>2,310,841</td>\n",
       "      <td>0</td>\n",
       "      <td>0</td>\n",
       "      <td>0</td>\n",
       "      <td>248,558</td>\n",
       "      <td>0</td>\n",
       "      <td>0</td>\n",
       "      <td>2,799,753</td>\n",
       "      <td>0</td>\n",
       "      <td>151,035</td>\n",
       "    </tr>\n",
       "    <tr>\n",
       "      <td>1</td>\n",
       "      <td>1990</td>\n",
       "      <td>AL</td>\n",
       "      <td>26,829,058</td>\n",
       "      <td>0</td>\n",
       "      <td>10,366,507</td>\n",
       "      <td>510,357</td>\n",
       "      <td>12,051,882</td>\n",
       "      <td>0</td>\n",
       "      <td>269,476</td>\n",
       "      <td>92,059</td>\n",
       "      <td>0</td>\n",
       "      <td>0</td>\n",
       "      <td>31,860,853</td>\n",
       "      <td>0</td>\n",
       "      <td>1,081,592</td>\n",
       "    </tr>\n",
       "    <tr>\n",
       "      <td>2</td>\n",
       "      <td>1990</td>\n",
       "      <td>AR</td>\n",
       "      <td>12,805,290</td>\n",
       "      <td>0</td>\n",
       "      <td>3,654,653</td>\n",
       "      <td>1,789,286</td>\n",
       "      <td>11,282,053</td>\n",
       "      <td>0</td>\n",
       "      <td>0</td>\n",
       "      <td>39,990</td>\n",
       "      <td>42,972</td>\n",
       "      <td>0</td>\n",
       "      <td>19,549,799</td>\n",
       "      <td>0</td>\n",
       "      <td>1,248,303</td>\n",
       "    </tr>\n",
       "    <tr>\n",
       "      <td>3</td>\n",
       "      <td>1990</td>\n",
       "      <td>AZ</td>\n",
       "      <td>21,277,073</td>\n",
       "      <td>0</td>\n",
       "      <td>7,417,576</td>\n",
       "      <td>1,166,950</td>\n",
       "      <td>20,597,689</td>\n",
       "      <td>0</td>\n",
       "      <td>0</td>\n",
       "      <td>75,934</td>\n",
       "      <td>249,767</td>\n",
       "      <td>0</td>\n",
       "      <td>31,387,148</td>\n",
       "      <td>0</td>\n",
       "      <td>107,888</td>\n",
       "    </tr>\n",
       "    <tr>\n",
       "      <td>4</td>\n",
       "      <td>1990</td>\n",
       "      <td>CA</td>\n",
       "      <td>1,318,838</td>\n",
       "      <td>9,680,836</td>\n",
       "      <td>11,896,284</td>\n",
       "      <td>24,722,769</td>\n",
       "      <td>32,692,807</td>\n",
       "      <td>0</td>\n",
       "      <td>1,073,371</td>\n",
       "      <td>1,824,617</td>\n",
       "      <td>986,252</td>\n",
       "      <td>244,445</td>\n",
       "      <td>55,261,636</td>\n",
       "      <td>1,839,254</td>\n",
       "      <td>2,766,965</td>\n",
       "    </tr>\n",
       "  </tbody>\n",
       "</table>\n",
       "</div>"
      ],
      "text/plain": [
       "Source  Year State       Coal  Geothermal  Hydroelectric Conventional  \\\n",
       "0       1990    AK    340,382           0                     974,521   \n",
       "1       1990    AL 26,829,058           0                  10,366,507   \n",
       "2       1990    AR 12,805,290           0                   3,654,653   \n",
       "3       1990    AZ 21,277,073           0                   7,417,576   \n",
       "4       1990    CA  1,318,838   9,680,836                  11,896,284   \n",
       "\n",
       "Source  Natural Gas    Nuclear  Other  Other Gases  Petroleum  Pumped Storage  \\\n",
       "0         2,310,841          0      0            0    248,558               0   \n",
       "1           510,357 12,051,882      0      269,476     92,059               0   \n",
       "2         1,789,286 11,282,053      0            0     39,990          42,972   \n",
       "3         1,166,950 20,597,689      0            0     75,934         249,767   \n",
       "4        24,722,769 32,692,807      0    1,073,371  1,824,617         986,252   \n",
       "\n",
       "Source  Solar Thermal and Photovoltaic      Total      Wind   Biomass  \n",
       "0                                    0  2,799,753         0   151,035  \n",
       "1                                    0 31,860,853         0 1,081,592  \n",
       "2                                    0 19,549,799         0 1,248,303  \n",
       "3                                    0 31,387,148         0   107,888  \n",
       "4                              244,445 55,261,636 1,839,254 2,766,965  "
      ]
     },
     "execution_count": 30,
     "metadata": {},
     "output_type": "execute_result"
    }
   ],
   "source": [
    "dfg.head()"
   ]
  },
  {
   "cell_type": "code",
   "execution_count": 33,
   "metadata": {},
   "outputs": [],
   "source": [
    "dfg.to_csv('./data/electricity-generation.csv')"
   ]
  },
  {
   "cell_type": "code",
   "execution_count": null,
   "metadata": {},
   "outputs": [],
   "source": []
  }
 ],
 "metadata": {
  "kernelspec": {
   "display_name": "Python 3",
   "language": "python",
   "name": "python3"
  },
  "language_info": {
   "codemirror_mode": {
    "name": "ipython",
    "version": 3
   },
   "file_extension": ".py",
   "mimetype": "text/x-python",
   "name": "python",
   "nbconvert_exporter": "python",
   "pygments_lexer": "ipython3",
   "version": "3.7.4"
  },
  "toc": {
   "base_numbering": 1,
   "nav_menu": {},
   "number_sections": true,
   "sideBar": true,
   "skip_h1_title": false,
   "title_cell": "Table of Contents",
   "title_sidebar": "Contents",
   "toc_cell": false,
   "toc_position": {},
   "toc_section_display": true,
   "toc_window_display": false
  }
 },
 "nbformat": 4,
 "nbformat_minor": 2
}
