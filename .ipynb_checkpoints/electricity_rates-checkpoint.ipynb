{
 "cells": [
  {
   "cell_type": "markdown",
   "metadata": {},
   "source": [
    "# Importing, Cleaning, and EDA"
   ]
  },
  {
   "cell_type": "markdown",
   "metadata": {},
   "source": [
    "## Importing Data from EIA Source .xls(x) files"
   ]
  },
  {
   "cell_type": "code",
   "execution_count": 1,
   "metadata": {},
   "outputs": [],
   "source": [
    "import pandas as pd\n",
    "import numpy as np\n",
    "import matplotlib.pyplot as plt\n",
    "import seaborn as sns"
   ]
  },
  {
   "cell_type": "markdown",
   "metadata": {},
   "source": [
    "We will import and pre-process our data in two separate dataframes: electricity generation emissions, titled \"dfe\", and electricity prices, titled \"dfp\". "
   ]
  },
  {
   "cell_type": "code",
   "execution_count": 2,
   "metadata": {},
   "outputs": [],
   "source": [
    "dfe = pd.read_excel('./data/electric-power-industry-estimated-emissions-1990-latest-year-available-1.xls')\n",
    "dfp = pd.read_excel('./data/avgprice_annual.xlsx', header=1)"
   ]
  },
  {
   "cell_type": "markdown",
   "metadata": {},
   "source": [
    "We'll start with the pricing data:"
   ]
  },
  {
   "cell_type": "code",
   "execution_count": 3,
   "metadata": {
    "scrolled": true
   },
   "outputs": [
    {
     "data": {
      "text/html": [
       "<div>\n",
       "<style scoped>\n",
       "    .dataframe tbody tr th:only-of-type {\n",
       "        vertical-align: middle;\n",
       "    }\n",
       "\n",
       "    .dataframe tbody tr th {\n",
       "        vertical-align: top;\n",
       "    }\n",
       "\n",
       "    .dataframe thead th {\n",
       "        text-align: right;\n",
       "    }\n",
       "</style>\n",
       "<table border=\"1\" class=\"dataframe\">\n",
       "  <thead>\n",
       "    <tr style=\"text-align: right;\">\n",
       "      <th></th>\n",
       "      <th>Year</th>\n",
       "      <th>State</th>\n",
       "      <th>Industry Sector Category</th>\n",
       "      <th>Residential</th>\n",
       "      <th>Commercial</th>\n",
       "      <th>Industrial</th>\n",
       "      <th>Transportation</th>\n",
       "      <th>Other</th>\n",
       "      <th>Total</th>\n",
       "    </tr>\n",
       "  </thead>\n",
       "  <tbody>\n",
       "    <tr>\n",
       "      <td>0</td>\n",
       "      <td>2018</td>\n",
       "      <td>AK</td>\n",
       "      <td>Total Electric Industry</td>\n",
       "      <td>21.94</td>\n",
       "      <td>18.58</td>\n",
       "      <td>17.10</td>\n",
       "      <td>0.00</td>\n",
       "      <td>NaN</td>\n",
       "      <td>19.36</td>\n",
       "    </tr>\n",
       "    <tr>\n",
       "      <td>1</td>\n",
       "      <td>2018</td>\n",
       "      <td>AL</td>\n",
       "      <td>Total Electric Industry</td>\n",
       "      <td>12.18</td>\n",
       "      <td>11.24</td>\n",
       "      <td>6.01</td>\n",
       "      <td>0.00</td>\n",
       "      <td>NaN</td>\n",
       "      <td>9.63</td>\n",
       "    </tr>\n",
       "    <tr>\n",
       "      <td>2</td>\n",
       "      <td>2018</td>\n",
       "      <td>AR</td>\n",
       "      <td>Total Electric Industry</td>\n",
       "      <td>9.81</td>\n",
       "      <td>7.75</td>\n",
       "      <td>5.64</td>\n",
       "      <td>11.35</td>\n",
       "      <td>NaN</td>\n",
       "      <td>7.78</td>\n",
       "    </tr>\n",
       "    <tr>\n",
       "      <td>3</td>\n",
       "      <td>2018</td>\n",
       "      <td>AZ</td>\n",
       "      <td>Total Electric Industry</td>\n",
       "      <td>12.77</td>\n",
       "      <td>10.64</td>\n",
       "      <td>6.55</td>\n",
       "      <td>10.02</td>\n",
       "      <td>NaN</td>\n",
       "      <td>10.85</td>\n",
       "    </tr>\n",
       "    <tr>\n",
       "      <td>4</td>\n",
       "      <td>2018</td>\n",
       "      <td>CA</td>\n",
       "      <td>Total Electric Industry</td>\n",
       "      <td>18.84</td>\n",
       "      <td>16.34</td>\n",
       "      <td>13.20</td>\n",
       "      <td>8.64</td>\n",
       "      <td>NaN</td>\n",
       "      <td>16.58</td>\n",
       "    </tr>\n",
       "  </tbody>\n",
       "</table>\n",
       "</div>"
      ],
      "text/plain": [
       "   Year State Industry Sector Category  Residential  Commercial  Industrial  \\\n",
       "0  2018    AK  Total Electric Industry        21.94       18.58       17.10   \n",
       "1  2018    AL  Total Electric Industry        12.18       11.24        6.01   \n",
       "2  2018    AR  Total Electric Industry         9.81        7.75        5.64   \n",
       "3  2018    AZ  Total Electric Industry        12.77       10.64        6.55   \n",
       "4  2018    CA  Total Electric Industry        18.84       16.34       13.20   \n",
       "\n",
       "   Transportation  Other  Total  \n",
       "0            0.00    NaN  19.36  \n",
       "1            0.00    NaN   9.63  \n",
       "2           11.35    NaN   7.78  \n",
       "3           10.02    NaN  10.85  \n",
       "4            8.64    NaN  16.58  "
      ]
     },
     "execution_count": 3,
     "metadata": {},
     "output_type": "execute_result"
    }
   ],
   "source": [
    "dfp.head()"
   ]
  },
  {
   "cell_type": "code",
   "execution_count": 4,
   "metadata": {
    "scrolled": true
   },
   "outputs": [
    {
     "data": {
      "text/plain": [
       "Year                           0\n",
       "State                          0\n",
       "Industry Sector Category       0\n",
       "Residential                    0\n",
       "Commercial                     0\n",
       "Industrial                     0\n",
       "Transportation              1607\n",
       "Other                       2664\n",
       "Total                          0\n",
       "dtype: int64"
      ]
     },
     "execution_count": 4,
     "metadata": {},
     "output_type": "execute_result"
    }
   ],
   "source": [
    "dfp.isnull().sum()"
   ]
  },
  {
   "cell_type": "code",
   "execution_count": 5,
   "metadata": {
    "scrolled": true
   },
   "outputs": [
    {
     "data": {
      "text/plain": [
       "Year                          int64\n",
       "State                        object\n",
       "Industry Sector Category     object\n",
       "Residential                 float64\n",
       "Commercial                  float64\n",
       "Industrial                  float64\n",
       "Transportation              float64\n",
       "Other                       float64\n",
       "Total                       float64\n",
       "dtype: object"
      ]
     },
     "execution_count": 5,
     "metadata": {},
     "output_type": "execute_result"
    }
   ],
   "source": [
    "dfp.dtypes"
   ]
  },
  {
   "cell_type": "code",
   "execution_count": 6,
   "metadata": {},
   "outputs": [],
   "source": [
    "#dfp['Year'] = pd.to_datetime(dfp['Year'], format='%Y')"
   ]
  },
  {
   "cell_type": "code",
   "execution_count": 7,
   "metadata": {
    "scrolled": true
   },
   "outputs": [
    {
     "data": {
      "text/html": [
       "<div>\n",
       "<style scoped>\n",
       "    .dataframe tbody tr th:only-of-type {\n",
       "        vertical-align: middle;\n",
       "    }\n",
       "\n",
       "    .dataframe tbody tr th {\n",
       "        vertical-align: top;\n",
       "    }\n",
       "\n",
       "    .dataframe thead th {\n",
       "        text-align: right;\n",
       "    }\n",
       "</style>\n",
       "<table border=\"1\" class=\"dataframe\">\n",
       "  <thead>\n",
       "    <tr style=\"text-align: right;\">\n",
       "      <th></th>\n",
       "      <th>Year</th>\n",
       "      <th>State</th>\n",
       "      <th>Industry Sector Category</th>\n",
       "      <th>Residential</th>\n",
       "      <th>Commercial</th>\n",
       "      <th>Industrial</th>\n",
       "      <th>Transportation</th>\n",
       "      <th>Other</th>\n",
       "      <th>Total</th>\n",
       "    </tr>\n",
       "  </thead>\n",
       "  <tbody>\n",
       "    <tr>\n",
       "      <td>4270</td>\n",
       "      <td>1990</td>\n",
       "      <td>US</td>\n",
       "      <td>Full-Service Providers</td>\n",
       "      <td>7.83</td>\n",
       "      <td>7.34</td>\n",
       "      <td>4.74</td>\n",
       "      <td>NaN</td>\n",
       "      <td>6.40</td>\n",
       "      <td>6.57</td>\n",
       "    </tr>\n",
       "    <tr>\n",
       "      <td>4194</td>\n",
       "      <td>1990</td>\n",
       "      <td>NC</td>\n",
       "      <td>Total Electric Industry</td>\n",
       "      <td>7.84</td>\n",
       "      <td>6.42</td>\n",
       "      <td>4.77</td>\n",
       "      <td>NaN</td>\n",
       "      <td>7.00</td>\n",
       "      <td>6.38</td>\n",
       "    </tr>\n",
       "    <tr>\n",
       "      <td>4195</td>\n",
       "      <td>1990</td>\n",
       "      <td>ND</td>\n",
       "      <td>Total Electric Industry</td>\n",
       "      <td>6.26</td>\n",
       "      <td>6.45</td>\n",
       "      <td>4.79</td>\n",
       "      <td>NaN</td>\n",
       "      <td>3.66</td>\n",
       "      <td>5.75</td>\n",
       "    </tr>\n",
       "    <tr>\n",
       "      <td>4196</td>\n",
       "      <td>1990</td>\n",
       "      <td>NE</td>\n",
       "      <td>Total Electric Industry</td>\n",
       "      <td>6.23</td>\n",
       "      <td>5.73</td>\n",
       "      <td>4.19</td>\n",
       "      <td>NaN</td>\n",
       "      <td>6.39</td>\n",
       "      <td>5.57</td>\n",
       "    </tr>\n",
       "    <tr>\n",
       "      <td>4197</td>\n",
       "      <td>1990</td>\n",
       "      <td>NH</td>\n",
       "      <td>Total Electric Industry</td>\n",
       "      <td>10.34</td>\n",
       "      <td>9.50</td>\n",
       "      <td>7.47</td>\n",
       "      <td>NaN</td>\n",
       "      <td>12.74</td>\n",
       "      <td>9.09</td>\n",
       "    </tr>\n",
       "  </tbody>\n",
       "</table>\n",
       "</div>"
      ],
      "text/plain": [
       "      Year State Industry Sector Category  Residential  Commercial  \\\n",
       "4270  1990    US   Full-Service Providers         7.83        7.34   \n",
       "4194  1990    NC  Total Electric Industry         7.84        6.42   \n",
       "4195  1990    ND  Total Electric Industry         6.26        6.45   \n",
       "4196  1990    NE  Total Electric Industry         6.23        5.73   \n",
       "4197  1990    NH  Total Electric Industry        10.34        9.50   \n",
       "\n",
       "      Industrial  Transportation  Other  Total  \n",
       "4270        4.74             NaN   6.40   6.57  \n",
       "4194        4.77             NaN   7.00   6.38  \n",
       "4195        4.79             NaN   3.66   5.75  \n",
       "4196        4.19             NaN   6.39   5.57  \n",
       "4197        7.47             NaN  12.74   9.09  "
      ]
     },
     "execution_count": 7,
     "metadata": {},
     "output_type": "execute_result"
    }
   ],
   "source": [
    "# Reverse row order of the dataframe to match timeb, 1990 to 2018\n",
    "dfp.sort_values('Year', inplace=True, ascending=True)\n",
    "dfp.head()"
   ]
  },
  {
   "cell_type": "code",
   "execution_count": 8,
   "metadata": {},
   "outputs": [
    {
     "data": {
      "text/plain": [
       "(4271, 9)"
      ]
     },
     "execution_count": 8,
     "metadata": {},
     "output_type": "execute_result"
    }
   ],
   "source": [
    "dfp.shape"
   ]
  },
  {
   "cell_type": "markdown",
   "metadata": {},
   "source": [
    "We're going to focus on overall electricity costs, so we will drop the remaining columns:"
   ]
  },
  {
   "cell_type": "code",
   "execution_count": 9,
   "metadata": {},
   "outputs": [],
   "source": [
    "dfp.drop(columns = ['Residential', 'Commercial', 'Industrial', 'Transportation', 'Other'],inplace = True)"
   ]
  },
  {
   "cell_type": "code",
   "execution_count": 10,
   "metadata": {},
   "outputs": [
    {
     "data": {
      "text/plain": [
       "Year                        0\n",
       "State                       0\n",
       "Industry Sector Category    0\n",
       "Total                       0\n",
       "dtype: int64"
      ]
     },
     "execution_count": 10,
     "metadata": {},
     "output_type": "execute_result"
    }
   ],
   "source": [
    "dfp.isnull().sum()"
   ]
  },
  {
   "cell_type": "markdown",
   "metadata": {},
   "source": [
    "From \"Industrial Sector Category, what we're interested in is \"Total Electric Industry\" so we'll drop the rows which represent the categories, which are merely constituents of the total. And we'll sort by year and state, and reset the index."
   ]
  },
  {
   "cell_type": "code",
   "execution_count": 40,
   "metadata": {},
   "outputs": [],
   "source": [
    "dfp = dfp[dfp['Industry Sector Category'] == \"Total Electric Industry\"]"
   ]
  },
  {
   "cell_type": "markdown",
   "metadata": {},
   "source": [
    "We do not need the \"Industry Sector Category\" column now, as that column only has \"Total Electric Industry\" and no longer has any useful information."
   ]
  },
  {
   "cell_type": "code",
   "execution_count": 110,
   "metadata": {},
   "outputs": [],
   "source": [
    "dfp.drop(axis = 1, columns = [\"Industry Sector Category\"], inplace = True)"
   ]
  },
  {
   "cell_type": "code",
   "execution_count": 111,
   "metadata": {
    "scrolled": true
   },
   "outputs": [],
   "source": [
    "dfp.sort_values(by = ['Year', 'State'], inplace = True)"
   ]
  },
  {
   "cell_type": "code",
   "execution_count": 115,
   "metadata": {},
   "outputs": [
    {
     "data": {
      "text/html": [
       "<div>\n",
       "<style scoped>\n",
       "    .dataframe tbody tr th:only-of-type {\n",
       "        vertical-align: middle;\n",
       "    }\n",
       "\n",
       "    .dataframe tbody tr th {\n",
       "        vertical-align: top;\n",
       "    }\n",
       "\n",
       "    .dataframe thead th {\n",
       "        text-align: right;\n",
       "    }\n",
       "</style>\n",
       "<table border=\"1\" class=\"dataframe\">\n",
       "  <thead>\n",
       "    <tr style=\"text-align: right;\">\n",
       "      <th></th>\n",
       "      <th>Year</th>\n",
       "      <th>State</th>\n",
       "      <th>Total</th>\n",
       "      <th>Total_Inf_Adj</th>\n",
       "    </tr>\n",
       "  </thead>\n",
       "  <tbody>\n",
       "    <tr>\n",
       "      <td>0</td>\n",
       "      <td>1990</td>\n",
       "      <td>AK</td>\n",
       "      <td>9.48</td>\n",
       "      <td>14.17</td>\n",
       "    </tr>\n",
       "    <tr>\n",
       "      <td>1</td>\n",
       "      <td>1990</td>\n",
       "      <td>AL</td>\n",
       "      <td>5.57</td>\n",
       "      <td>8.32</td>\n",
       "    </tr>\n",
       "    <tr>\n",
       "      <td>2</td>\n",
       "      <td>1990</td>\n",
       "      <td>AR</td>\n",
       "      <td>6.70</td>\n",
       "      <td>10.01</td>\n",
       "    </tr>\n",
       "    <tr>\n",
       "      <td>3</td>\n",
       "      <td>1990</td>\n",
       "      <td>AZ</td>\n",
       "      <td>7.75</td>\n",
       "      <td>11.58</td>\n",
       "    </tr>\n",
       "    <tr>\n",
       "      <td>4</td>\n",
       "      <td>1990</td>\n",
       "      <td>CA</td>\n",
       "      <td>8.84</td>\n",
       "      <td>13.21</td>\n",
       "    </tr>\n",
       "    <tr>\n",
       "      <td>...</td>\n",
       "      <td>...</td>\n",
       "      <td>...</td>\n",
       "      <td>...</td>\n",
       "      <td>...</td>\n",
       "    </tr>\n",
       "    <tr>\n",
       "      <td>1503</td>\n",
       "      <td>2018</td>\n",
       "      <td>VT</td>\n",
       "      <td>15.13</td>\n",
       "      <td>11.77</td>\n",
       "    </tr>\n",
       "    <tr>\n",
       "      <td>1504</td>\n",
       "      <td>2018</td>\n",
       "      <td>WA</td>\n",
       "      <td>8.00</td>\n",
       "      <td>6.22</td>\n",
       "    </tr>\n",
       "    <tr>\n",
       "      <td>1505</td>\n",
       "      <td>2018</td>\n",
       "      <td>WI</td>\n",
       "      <td>10.58</td>\n",
       "      <td>8.23</td>\n",
       "    </tr>\n",
       "    <tr>\n",
       "      <td>1506</td>\n",
       "      <td>2018</td>\n",
       "      <td>WV</td>\n",
       "      <td>8.72</td>\n",
       "      <td>6.78</td>\n",
       "    </tr>\n",
       "    <tr>\n",
       "      <td>1507</td>\n",
       "      <td>2018</td>\n",
       "      <td>WY</td>\n",
       "      <td>8.09</td>\n",
       "      <td>6.29</td>\n",
       "    </tr>\n",
       "  </tbody>\n",
       "</table>\n",
       "<p>1508 rows × 4 columns</p>\n",
       "</div>"
      ],
      "text/plain": [
       "      Year State  Total  Total_Inf_Adj\n",
       "0     1990    AK   9.48          14.17\n",
       "1     1990    AL   5.57           8.32\n",
       "2     1990    AR   6.70          10.01\n",
       "3     1990    AZ   7.75          11.58\n",
       "4     1990    CA   8.84          13.21\n",
       "...    ...   ...    ...            ...\n",
       "1503  2018    VT  15.13          11.77\n",
       "1504  2018    WA   8.00           6.22\n",
       "1505  2018    WI  10.58           8.23\n",
       "1506  2018    WV   8.72           6.78\n",
       "1507  2018    WY   8.09           6.29\n",
       "\n",
       "[1508 rows x 4 columns]"
      ]
     },
     "execution_count": 115,
     "metadata": {},
     "output_type": "execute_result"
    }
   ],
   "source": [
    "dfp.reset_index(drop = True)"
   ]
  },
  {
   "cell_type": "markdown",
   "metadata": {},
   "source": [
    "Confirming we have the same number of entries per state (incl. DC and all-US). <br>\n",
    "Without displaying the entire series, 1508 / 52 = 29, and that is what we have."
   ]
  },
  {
   "cell_type": "code",
   "execution_count": 113,
   "metadata": {
    "scrolled": true
   },
   "outputs": [
    {
     "data": {
      "text/plain": [
       "AK    29\n",
       "AL    29\n",
       "AR    29\n",
       "AZ    29\n",
       "CA    29\n",
       "Name: State, dtype: int64"
      ]
     },
     "execution_count": 113,
     "metadata": {},
     "output_type": "execute_result"
    }
   ],
   "source": [
    "dfp['State'].value_counts().sort_index().head()"
   ]
  },
  {
   "cell_type": "code",
   "execution_count": 44,
   "metadata": {
    "scrolled": true
   },
   "outputs": [
    {
     "data": {
      "image/png": "[encoded data removed]",
      "text/plain": [
       "<Figure size 1296x504 with 1 Axes>"
      ]
     },
     "metadata": {
      "needs_background": "light"
     },
     "output_type": "display_data"
    }
   ],
   "source": [
    "plt.figure(figsize=(18, 7))\n",
    "plt.ylim(0,30)  # If we don't set y limit our plot starts around 2 which makes prices look artificially low\n",
    "ax = sns.boxplot(y = \"Total\", x = \"Year\", data=dfp, orient='v', palette=\"colorblind\");\n",
    "plt.setp(ax.get_xticklabels(), rotation=45)\n",
    "ax.set_title(\"Electricity Pricing by Year\",fontsize=30);\n",
    "ax.set_xlabel(\"Year\",fontsize=20);\n",
    "ax.set_ylabel(\"Electricity Price\",fontsize=20);\n",
    "ax.tick_params(labelsize=15)"
   ]
  },
  {
   "cell_type": "markdown",
   "metadata": {},
   "source": [
    "**Interpretation:** each individual box left to right represents the range of retail electricity prices for all 50 states plus Puerto Rico and Washington DC. \n",
    "\n",
    "_But this is not an accurate picture._ Per the EIA's website, prices have **not** been adjusted to remove the effects of inflation:\n",
    "\n",
    "https://www.eia.gov/tools/faqs/faq.php?id=13&t=5\n",
    "\n",
    "Fortunately there is a python library published by the Los Angeles Times Data and Graphics Department which will help us solve this problem:\n",
    "\n",
    "https://github.com/datadesk/cpi\n",
    "\n",
    "Below, we will install the package and adjust our data for inflation:"
   ]
  },
  {
   "cell_type": "code",
   "execution_count": 16,
   "metadata": {
    "scrolled": false
   },
   "outputs": [],
   "source": [
    "#pip install cpi"
   ]
  },
  {
   "cell_type": "markdown",
   "metadata": {},
   "source": [
    "Here the CPI library is imported and updated with the latest CPI data:"
   ]
  },
  {
   "cell_type": "code",
   "execution_count": 17,
   "metadata": {},
   "outputs": [],
   "source": [
    "import cpi\n",
    "cpi.update()"
   ]
  },
  {
   "cell_type": "code",
   "execution_count": 19,
   "metadata": {},
   "outputs": [],
   "source": [
    "def inflate(row):\n",
    "        return cpi.inflate(row['Total'], row['Year'], to=2005)"
   ]
  },
  {
   "cell_type": "code",
   "execution_count": 114,
   "metadata": {},
   "outputs": [],
   "source": [
    "dfp['Total_Inf_Adj'] = np.round(dfp.apply(inflate, axis = 1), 2)"
   ]
  },
  {
   "cell_type": "code",
   "execution_count": 47,
   "metadata": {},
   "outputs": [
    {
     "data": {
      "text/html": [
       "<div>\n",
       "<style scoped>\n",
       "    .dataframe tbody tr th:only-of-type {\n",
       "        vertical-align: middle;\n",
       "    }\n",
       "\n",
       "    .dataframe tbody tr th {\n",
       "        vertical-align: top;\n",
       "    }\n",
       "\n",
       "    .dataframe thead th {\n",
       "        text-align: right;\n",
       "    }\n",
       "</style>\n",
       "<table border=\"1\" class=\"dataframe\">\n",
       "  <thead>\n",
       "    <tr style=\"text-align: right;\">\n",
       "      <th></th>\n",
       "      <th>Year</th>\n",
       "      <th>State</th>\n",
       "      <th>Industry Sector Category</th>\n",
       "      <th>Total</th>\n",
       "      <th>Total_Inf_Adj</th>\n",
       "    </tr>\n",
       "  </thead>\n",
       "  <tbody>\n",
       "    <tr>\n",
       "      <td>4167</td>\n",
       "      <td>1990</td>\n",
       "      <td>AK</td>\n",
       "      <td>Total Electric Industry</td>\n",
       "      <td>9.48</td>\n",
       "      <td>14.165601</td>\n",
       "    </tr>\n",
       "    <tr>\n",
       "      <td>4168</td>\n",
       "      <td>1990</td>\n",
       "      <td>AL</td>\n",
       "      <td>Total Electric Industry</td>\n",
       "      <td>5.57</td>\n",
       "      <td>8.323037</td>\n",
       "    </tr>\n",
       "    <tr>\n",
       "      <td>4169</td>\n",
       "      <td>1990</td>\n",
       "      <td>AR</td>\n",
       "      <td>Total Electric Industry</td>\n",
       "      <td>6.70</td>\n",
       "      <td>10.011553</td>\n",
       "    </tr>\n",
       "    <tr>\n",
       "      <td>4170</td>\n",
       "      <td>1990</td>\n",
       "      <td>AZ</td>\n",
       "      <td>Total Electric Industry</td>\n",
       "      <td>7.75</td>\n",
       "      <td>11.580528</td>\n",
       "    </tr>\n",
       "    <tr>\n",
       "      <td>4171</td>\n",
       "      <td>1990</td>\n",
       "      <td>CA</td>\n",
       "      <td>Total Electric Industry</td>\n",
       "      <td>8.84</td>\n",
       "      <td>13.209273</td>\n",
       "    </tr>\n",
       "  </tbody>\n",
       "</table>\n",
       "</div>"
      ],
      "text/plain": [
       "      Year State Industry Sector Category  Total  Total_Inf_Adj\n",
       "4167  1990    AK  Total Electric Industry   9.48      14.165601\n",
       "4168  1990    AL  Total Electric Industry   5.57       8.323037\n",
       "4169  1990    AR  Total Electric Industry   6.70      10.011553\n",
       "4170  1990    AZ  Total Electric Industry   7.75      11.580528\n",
       "4171  1990    CA  Total Electric Industry   8.84      13.209273"
      ]
     },
     "execution_count": 47,
     "metadata": {},
     "output_type": "execute_result"
    }
   ],
   "source": [
    "dfp.head()"
   ]
  },
  {
   "cell_type": "code",
   "execution_count": 48,
   "metadata": {},
   "outputs": [
    {
     "data": {
      "image/png": "[encoded data removed]",
      "text/plain": [
       "<Figure size 1296x504 with 1 Axes>"
      ]
     },
     "metadata": {
      "needs_background": "light"
     },
     "output_type": "display_data"
    }
   ],
   "source": [
    "plt.figure(figsize=(18, 7))\n",
    "plt.ylim(0,30)  # If we don't set y limit our plot starts around 2 which makes prices look artificially low\n",
    "ax = sns.boxplot(y = \"Total_Inf_Adj\", x = \"Year\", data=dfp, orient='v', palette=\"colorblind\");\n",
    "plt.setp(ax.get_xticklabels(), rotation=45)\n",
    "ax.set_title(\"Electricity Pricing by Year\",fontsize=30);\n",
    "ax.set_xlabel(\"Year\",fontsize=20);\n",
    "ax.set_ylabel(\"Electricity Price\",fontsize=20);\n",
    "ax.tick_params(labelsize=15) "
   ]
  },
  {
   "cell_type": "code",
   "execution_count": 61,
   "metadata": {},
   "outputs": [
    {
     "data": {
      "text/html": [
       "<div>\n",
       "<style scoped>\n",
       "    .dataframe tbody tr th:only-of-type {\n",
       "        vertical-align: middle;\n",
       "    }\n",
       "\n",
       "    .dataframe tbody tr th {\n",
       "        vertical-align: top;\n",
       "    }\n",
       "\n",
       "    .dataframe thead th {\n",
       "        text-align: right;\n",
       "    }\n",
       "</style>\n",
       "<table border=\"1\" class=\"dataframe\">\n",
       "  <thead>\n",
       "    <tr style=\"text-align: right;\">\n",
       "      <th></th>\n",
       "      <th>Year</th>\n",
       "      <th>State</th>\n",
       "      <th>Industry Sector Category</th>\n",
       "      <th>Total</th>\n",
       "      <th>Total_Inf_Adj</th>\n",
       "    </tr>\n",
       "  </thead>\n",
       "  <tbody>\n",
       "    <tr>\n",
       "      <td>3000</td>\n",
       "      <td>2000</td>\n",
       "      <td>HI</td>\n",
       "      <td>Total Electric Industry</td>\n",
       "      <td>14.03</td>\n",
       "      <td>15.912073</td>\n",
       "    </tr>\n",
       "    <tr>\n",
       "      <td>3023</td>\n",
       "      <td>2000</td>\n",
       "      <td>NY</td>\n",
       "      <td>Total Electric Industry</td>\n",
       "      <td>11.38</td>\n",
       "      <td>12.906585</td>\n",
       "    </tr>\n",
       "    <tr>\n",
       "      <td>3019</td>\n",
       "      <td>2000</td>\n",
       "      <td>NH</td>\n",
       "      <td>Total Electric Industry</td>\n",
       "      <td>11.25</td>\n",
       "      <td>12.759146</td>\n",
       "    </tr>\n",
       "  </tbody>\n",
       "</table>\n",
       "</div>"
      ],
      "text/plain": [
       "      Year State Industry Sector Category  Total  Total_Inf_Adj\n",
       "3000  2000    HI  Total Electric Industry  14.03      15.912073\n",
       "3023  2000    NY  Total Electric Industry  11.38      12.906585\n",
       "3019  2000    NH  Total Electric Industry  11.25      12.759146"
      ]
     },
     "execution_count": 61,
     "metadata": {},
     "output_type": "execute_result"
    }
   ],
   "source": [
    "dfp[dfp[\"Year\"] == 2000].sort_values(\"Total\", ascending = False).head(3)"
   ]
  },
  {
   "cell_type": "code",
   "execution_count": 100,
   "metadata": {},
   "outputs": [
    {
     "data": {
      "text/plain": [
       "1010    28.955513\n",
       "846     27.883592\n",
       "Name: Total_Inf_Adj, dtype: float64"
      ]
     },
     "execution_count": 100,
     "metadata": {},
     "output_type": "execute_result"
    }
   ],
   "source": [
    "dfp[\"Total_Inf_Adj\"].nlargest(2)"
   ]
  },
  {
   "cell_type": "code",
   "execution_count": 101,
   "metadata": {},
   "outputs": [
    {
     "data": {
      "text/html": [
       "<div>\n",
       "<style scoped>\n",
       "    .dataframe tbody tr th:only-of-type {\n",
       "        vertical-align: middle;\n",
       "    }\n",
       "\n",
       "    .dataframe tbody tr th {\n",
       "        vertical-align: top;\n",
       "    }\n",
       "\n",
       "    .dataframe thead th {\n",
       "        text-align: right;\n",
       "    }\n",
       "</style>\n",
       "<table border=\"1\" class=\"dataframe\">\n",
       "  <thead>\n",
       "    <tr style=\"text-align: right;\">\n",
       "      <th></th>\n",
       "      <th>Year</th>\n",
       "      <th>State</th>\n",
       "      <th>Industry Sector Category</th>\n",
       "      <th>Total</th>\n",
       "      <th>Total_Inf_Adj</th>\n",
       "    </tr>\n",
       "  </thead>\n",
       "  <tbody>\n",
       "    <tr>\n",
       "      <td>4167</td>\n",
       "      <td>1990</td>\n",
       "      <td>AK</td>\n",
       "      <td>Total Electric Industry</td>\n",
       "      <td>9.48</td>\n",
       "      <td>14.165601</td>\n",
       "    </tr>\n",
       "    <tr>\n",
       "      <td>4168</td>\n",
       "      <td>1990</td>\n",
       "      <td>AL</td>\n",
       "      <td>Total Electric Industry</td>\n",
       "      <td>5.57</td>\n",
       "      <td>8.323037</td>\n",
       "    </tr>\n",
       "    <tr>\n",
       "      <td>4169</td>\n",
       "      <td>1990</td>\n",
       "      <td>AR</td>\n",
       "      <td>Total Electric Industry</td>\n",
       "      <td>6.70</td>\n",
       "      <td>10.011553</td>\n",
       "    </tr>\n",
       "    <tr>\n",
       "      <td>4170</td>\n",
       "      <td>1990</td>\n",
       "      <td>AZ</td>\n",
       "      <td>Total Electric Industry</td>\n",
       "      <td>7.75</td>\n",
       "      <td>11.580528</td>\n",
       "    </tr>\n",
       "    <tr>\n",
       "      <td>4171</td>\n",
       "      <td>1990</td>\n",
       "      <td>CA</td>\n",
       "      <td>Total Electric Industry</td>\n",
       "      <td>8.84</td>\n",
       "      <td>13.209273</td>\n",
       "    </tr>\n",
       "  </tbody>\n",
       "</table>\n",
       "</div>"
      ],
      "text/plain": [
       "      Year State Industry Sector Category  Total  Total_Inf_Adj\n",
       "4167  1990    AK  Total Electric Industry   9.48      14.165601\n",
       "4168  1990    AL  Total Electric Industry   5.57       8.323037\n",
       "4169  1990    AR  Total Electric Industry   6.70      10.011553\n",
       "4170  1990    AZ  Total Electric Industry   7.75      11.580528\n",
       "4171  1990    CA  Total Electric Industry   8.84      13.209273"
      ]
     },
     "execution_count": 101,
     "metadata": {},
     "output_type": "execute_result"
    }
   ],
   "source": [
    "dfp.head()"
   ]
  },
  {
   "cell_type": "code",
   "execution_count": 104,
   "metadata": {},
   "outputs": [
    {
     "data": {
      "text/html": [
       "<div>\n",
       "<style scoped>\n",
       "    .dataframe tbody tr th:only-of-type {\n",
       "        vertical-align: middle;\n",
       "    }\n",
       "\n",
       "    .dataframe tbody tr th {\n",
       "        vertical-align: top;\n",
       "    }\n",
       "\n",
       "    .dataframe thead th {\n",
       "        text-align: right;\n",
       "    }\n",
       "</style>\n",
       "<table border=\"1\" class=\"dataframe\">\n",
       "  <thead>\n",
       "    <tr style=\"text-align: right;\">\n",
       "      <th></th>\n",
       "      <th></th>\n",
       "      <th>Total</th>\n",
       "      <th>Total_Inf_Adj</th>\n",
       "    </tr>\n",
       "    <tr>\n",
       "      <th>Year</th>\n",
       "      <th>State</th>\n",
       "      <th></th>\n",
       "      <th></th>\n",
       "    </tr>\n",
       "  </thead>\n",
       "  <tbody>\n",
       "    <tr>\n",
       "      <td rowspan=\"5\" valign=\"top\">1990</td>\n",
       "      <td>AK</td>\n",
       "      <td>9.48</td>\n",
       "      <td>14.165601</td>\n",
       "    </tr>\n",
       "    <tr>\n",
       "      <td>AL</td>\n",
       "      <td>5.57</td>\n",
       "      <td>8.323037</td>\n",
       "    </tr>\n",
       "    <tr>\n",
       "      <td>AR</td>\n",
       "      <td>6.70</td>\n",
       "      <td>10.011553</td>\n",
       "    </tr>\n",
       "    <tr>\n",
       "      <td>AZ</td>\n",
       "      <td>7.75</td>\n",
       "      <td>11.580528</td>\n",
       "    </tr>\n",
       "    <tr>\n",
       "      <td>CA</td>\n",
       "      <td>8.84</td>\n",
       "      <td>13.209273</td>\n",
       "    </tr>\n",
       "    <tr>\n",
       "      <td>...</td>\n",
       "      <td>...</td>\n",
       "      <td>...</td>\n",
       "      <td>...</td>\n",
       "    </tr>\n",
       "    <tr>\n",
       "      <td rowspan=\"5\" valign=\"top\">2018</td>\n",
       "      <td>VT</td>\n",
       "      <td>15.13</td>\n",
       "      <td>11.767450</td>\n",
       "    </tr>\n",
       "    <tr>\n",
       "      <td>WA</td>\n",
       "      <td>8.00</td>\n",
       "      <td>6.222049</td>\n",
       "    </tr>\n",
       "    <tr>\n",
       "      <td>WI</td>\n",
       "      <td>10.58</td>\n",
       "      <td>8.228659</td>\n",
       "    </tr>\n",
       "    <tr>\n",
       "      <td>WV</td>\n",
       "      <td>8.72</td>\n",
       "      <td>6.782033</td>\n",
       "    </tr>\n",
       "    <tr>\n",
       "      <td>WY</td>\n",
       "      <td>8.09</td>\n",
       "      <td>6.292047</td>\n",
       "    </tr>\n",
       "  </tbody>\n",
       "</table>\n",
       "<p>1508 rows × 2 columns</p>\n",
       "</div>"
      ],
      "text/plain": [
       "            Total  Total_Inf_Adj\n",
       "Year State                      \n",
       "1990 AK      9.48      14.165601\n",
       "     AL      5.57       8.323037\n",
       "     AR      6.70      10.011553\n",
       "     AZ      7.75      11.580528\n",
       "     CA      8.84      13.209273\n",
       "...           ...            ...\n",
       "2018 VT     15.13      11.767450\n",
       "     WA      8.00       6.222049\n",
       "     WI     10.58       8.228659\n",
       "     WV      8.72       6.782033\n",
       "     WY      8.09       6.292047\n",
       "\n",
       "[1508 rows x 2 columns]"
      ]
     },
     "execution_count": 104,
     "metadata": {},
     "output_type": "execute_result"
    }
   ],
   "source": [
    "pd.pivot_table(dfp, index = [\"Year\", \"State\"])"
   ]
  },
  {
   "cell_type": "code",
   "execution_count": null,
   "metadata": {},
   "outputs": [],
   "source": []
  },
  {
   "cell_type": "code",
   "execution_count": null,
   "metadata": {},
   "outputs": [],
   "source": []
  },
  {
   "cell_type": "code",
   "execution_count": 23,
   "metadata": {},
   "outputs": [
    {
     "name": "stdout",
     "output_type": "stream",
     "text": [
      "In emissions, there are 53 elements in the State column, including all-US, DC, and PR.\n",
      "In emissions, there are 8 Producer Types.\n",
      "In emissions, there are 9 Energy Sources.\n",
      "In emissions, there are 3816 potential sources of emissions.\n"
     ]
    }
   ],
   "source": [
    "state_count = dfe['State'].value_counts(normalize=True).count()\n",
    "prod_type_count = len(set(dfe['Producer Type'].unique()))\n",
    "energy_source_count = len(set(dfe['Energy Source'].unique()))\n",
    "print(f\"In emissions, there are {state_count} elements in the State column, including all-US, DC, and PR.\")\n",
    "print(f\"In emissions, there are {prod_type_count} Producer Types.\")\n",
    "print(f\"In emissions, there are {energy_source_count} Energy Sources.\")\n",
    "print(f\"In emissions, there are {53*8*9} potential sources of emissions.\")"
   ]
  }
 ],
 "metadata": {
  "kernelspec": {
   "display_name": "Python 3",
   "language": "python",
   "name": "python3"
  },
  "language_info": {
   "codemirror_mode": {
    "name": "ipython",
    "version": 3
   },
   "file_extension": ".py",
   "mimetype": "text/x-python",
   "name": "python",
   "nbconvert_exporter": "python",
   "pygments_lexer": "ipython3",
   "version": "3.7.4"
  },
  "toc": {
   "base_numbering": 1,
   "nav_menu": {},
   "number_sections": true,
   "sideBar": true,
   "skip_h1_title": false,
   "title_cell": "Table of Contents",
   "title_sidebar": "Contents",
   "toc_cell": false,
   "toc_position": {},
   "toc_section_display": true,
   "toc_window_display": true
  }
 },
 "nbformat": 4,
 "nbformat_minor": 2
}
